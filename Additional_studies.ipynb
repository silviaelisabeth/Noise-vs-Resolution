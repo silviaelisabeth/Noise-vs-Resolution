{
 "cells": [
  {
   "cell_type": "code",
   "execution_count": 3,
   "id": "8b8c0744",
   "metadata": {},
   "outputs": [
    {
     "name": "stdout",
     "output_type": "stream",
     "text": [
      "Using matplotlib backend: MacOSX\n"
     ]
    }
   ],
   "source": [
    "%run functions_NoiseStudy.py\n",
    "%matplotlib \n",
    "\n",
    "# global variables\n",
    "fs = 13\n",
    "type_plot = ['png', 'svg']"
   ]
  },
  {
   "cell_type": "raw",
   "id": "55c80c6d",
   "metadata": {},
   "source": [
    "Compare different smoothing filters AND differnt states when the respective smoothing filter is applied to the image. Possible options are: \n",
    "1) choose the filter function: \n",
    "        1.1 Gauss\n",
    "        1.2 Savitzky-Golay\n",
    "2) choose the stage, when the blur filter is applied: \n",
    "        2.1 applied to the ratiometric intensity R = r/g\n",
    "        2.2 applied to the individual channels r and g\n",
    "        2.3 applied to the normalized intensity R0/R\n",
    "        "
   ]
  },
  {
   "cell_type": "code",
   "execution_count": 4,
   "id": "7fe825dd",
   "metadata": {},
   "outputs": [],
   "source": [
    "# actual evaluation time\n",
    "now = datetime.datetime.now()\n",
    "today = now.strftime(\"%Y%m%d\")\n",
    "\n",
    "# output folder\n",
    "save_dir_plots = 'plots/' + today + '_measurement'\n",
    "if not os.path.exists(save_dir_plots):\n",
    "    os.makedirs(save_dir_plots)\n",
    "    \n",
    "save_dir_res = 'Results/' + today + '_measurement'\n",
    "if not os.path.exists(save_dir_res):\n",
    "    os.makedirs(save_dir_res)\n",
    "    \n",
    "fig_Rpen = None"
   ]
  },
  {
   "cell_type": "code",
   "execution_count": 5,
   "id": "7638ad59",
   "metadata": {},
   "outputs": [
    {
     "name": "stdout",
     "output_type": "stream",
     "text": [
      "Image resolution: 1mm equals: 28.02px, i.e. 712dpi\n"
     ]
    }
   ],
   "source": [
    "# Paths must be updated according to your directory !!!\n",
    "# depth profile microsensor\n",
    "path_ = '/Volumes/HIS-CAMEL/04measurementData/20201127_Noise-vs-resolution-paper/'\n",
    "file_ms = path_ + 'Klaus_Optode_noise_study_26-11-2020/O2gradient_experiement/profiles.txt'\n",
    "\n",
    "# calibration data \n",
    "file_calib = 'Results/20210531_calibration/20210531-1455_calibration_1RoI.hdf5'\n",
    "\n",
    "# measurement data - images of the optode.\n",
    "file_meas = path_ + 'Klaus_Optode_noise_study_26-11-2020/O2gradient_experiement/'\n",
    "\n",
    "# image cropping to the region of interest (RoI) that should be analyzed\n",
    "RoI_op = [[(730, 200), (730, 1250), (1290, 1250), (1290, 200)],   # optode1\n",
    "          [(1560, 200), (1560, 1250), (2100, 1250), (2100, 200)]] # optode2\n",
    "\n",
    "# Image resolution - determine conversion factor px -> mm \n",
    "px2mm, dpi = image_resolution(px=840.6646, dist_mm=30., inch=1.1811)\n",
    "print('Image resolution: 1mm equals: {:.2f}px, i.e. {:.0f}dpi'.format(px2mm, dpi))\n",
    "\n",
    "# ................................................................................\n",
    "# load depth profile(s) of the microsensir for validation of the depth profile\n",
    "dic_micro = read_microsensor(file_ms=file_ms, encoding='latin-1')\n",
    "\n",
    "# load measurement data and crop according to the RoI\n",
    "dint_red, dint_green, dint_ratio = splitImage(path=file_meas, RoI_op=RoI_op)"
   ]
  },
  {
   "cell_type": "code",
   "execution_count": 6,
   "id": "5f597f16",
   "metadata": {},
   "outputs": [
    {
     "name": "stdout",
     "output_type": "stream",
     "text": [
      "Which optode and which setting shall be visualized? optode1, set2\n",
      "Which kernel function should be applied? \n",
      " Choose between (1) Gauss or (2) Savitzky-Golay: \n",
      " > Your choise: 1\n"
     ]
    }
   ],
   "source": [
    "# one example of one optode\n",
    "inp = input('Which optode and which setting shall be visualized? ') # optode1, set2\n",
    "kernel_str = input('Which kernel function should be applied? \\n Choose between (1) Gauss or (2) Savitzky-Golay: \\n > Your choise: ')"
   ]
  },
  {
   "cell_type": "code",
   "execution_count": null,
   "id": "52f034bd",
   "metadata": {},
   "outputs": [],
   "source": []
  },
  {
   "cell_type": "markdown",
   "id": "8704ce17",
   "metadata": {},
   "source": [
    "### Prepare specific settings for data processing"
   ]
  },
  {
   "cell_type": "code",
   "execution_count": 7,
   "id": "757b5c0d",
   "metadata": {},
   "outputs": [],
   "source": [
    "# preparation lineprofile\n",
    "surface = (12.9, 12.)   # optode 1, optode2\n",
    "depth_lp = (-4, 4)      # depth for 2D line profile \n",
    "depth_op =  (-1.5, 1.)  # depth for optode excerpt\n",
    "pos_lp = (7., 3.)       # position of the depth profile within the optode\n",
    "ls_lw = [0]             # line with of the drawn depth profile\n",
    "\n",
    "# .................................................................\n",
    "# additional information for visualization\n",
    "arg = dict({'curve lw': 1.5, 'vmin':-5, 'vmax': 130, 'lw': 0.0, 'offset ms': 0.2,\n",
    "           'aspect': 4, 'cmap': plt.cm.inferno, 'vmin op': 0, 'vmax op': 100,\n",
    "           'figsize': (12, 5), 'fontsize': 11, 'marker': ['o', 'd', 'x', '.'],\n",
    "           'colors': ['slategrey', 'darkorange', 'forestgreen', 'k']})"
   ]
  },
  {
   "cell_type": "markdown",
   "id": "825c4e2a",
   "metadata": {},
   "source": [
    "Kernel specific settings"
   ]
  },
  {
   "cell_type": "code",
   "execution_count": 8,
   "id": "dc582da4",
   "metadata": {},
   "outputs": [
    {
     "name": "stdout",
     "output_type": "stream",
     "text": [
      "selected kernel function - Gauss filter\n"
     ]
    }
   ],
   "source": [
    "if kernel_str == str(1) or kernel_str == 'gauss':\n",
    "    print('selected kernel function - Gauss filter')\n",
    "    kernel='gauss'\n",
    "    ls_kernel = [(1,1), (3,3), (5, 5), (7,7), (9,9), (11, 11), (13,13), (15, 15), (17,17),\n",
    "                 (19,19), (21, 21), (25, 25), (31, 31), (35, 35), (41, 41), (45, 45), \n",
    "                 (51 ,51), (55, 55), (61, 61), (65, 65), (71, 71), (75, 75), (81, 81)]  \n",
    "elif kernel_str == str(2) or kernel_str == 'Savitzky-Golay':\n",
    "    print('selected kernel function - Savitzky-Golay filter')\n",
    "    kernel='savgol'\n",
    "    # polyorder, window\n",
    "    ls_kernel = [(2,3), (2,5), (2,7), (2,9), (2,11), (2,13), (2,15), (2,17), (2,19), \n",
    "                 (2,21), (2,31), (2,41), (2, 51), (2,61), (2,71), (2,81),\n",
    "                 (3,5), (3,7), (3,9), (3,11), (3,13), (3,15), (3,17), (3,19), (3,21), \n",
    "                 (3,31), (3,41), (3,51), (3,61), (3,71), (3,81)]\n",
    "else:\n",
    "    raise ValueError('Selection not valid. Choose either 1 (for Gauss) or 2 Savitzky-Golay')"
   ]
  },
  {
   "cell_type": "markdown",
   "id": "47915566",
   "metadata": {},
   "source": [
    "Select, when blur filter should be applied"
   ]
  },
  {
   "cell_type": "code",
   "execution_count": 9,
   "id": "c0586a70",
   "metadata": {},
   "outputs": [
    {
     "name": "stdout",
     "output_type": "stream",
     "text": [
      "When should the blur be applied? (1) single color channels, (2) ratiometric intensity, or (3) normalized intensity? \n",
      " > Your choise: 2\n"
     ]
    }
   ],
   "source": [
    "blur_str = input('When should the blur be applied? (1) single color channels, (2) ratiometric intensity, or (3) normalized intensity? \\n > Your choise: ')"
   ]
  },
  {
   "cell_type": "code",
   "execution_count": 10,
   "id": "d688879f",
   "metadata": {},
   "outputs": [],
   "source": [
    "if blur_str == str(1):\n",
    "    dint_ch1, dint_ch2 = dint_red, dint_green\n",
    "    blur_pos='single'\n",
    "elif blur_str == str(2):\n",
    "    dint_ch1, dint_ch2 = dint_ratio, None\n",
    "    blur_pos='ratio'\n",
    "elif blur_str == str(3):\n",
    "    dint_ch1, dint_ch2 = dint_ratio, None\n",
    "    blur_pos='norm'\n",
    "else:\n",
    "    raise ValueError(' Selection not valid! \\n Select either 1 (for single color channels), 2 (for ratiometric intensity), or 3 (for normalized intensity)')"
   ]
  },
  {
   "cell_type": "code",
   "execution_count": null,
   "id": "66c38cb5",
   "metadata": {},
   "outputs": [],
   "source": []
  },
  {
   "cell_type": "markdown",
   "id": "e8c43281",
   "metadata": {},
   "source": [
    "### Image processing"
   ]
  },
  {
   "cell_type": "code",
   "execution_count": 28,
   "id": "73800f6d",
   "metadata": {},
   "outputs": [
    {
     "name": "stdout",
     "output_type": "stream",
     "text": [
      "lineprofile done\n"
     ]
    }
   ],
   "source": [
    "# determine O2 concentration for the depth profile (1D) for different image blurs\n",
    "dO2_lp = dict(map(lambda k: \n",
    "                  (k, O2_lineprofile_compare_v2(inp=inp, surface=surface, kernel=kernel, kshape=k, lp=pos_lp, \n",
    "                                                path_calib=file_calib, dint_ch1=dint_ch1, dint_ch2=dint_ch2, \n",
    "                                                px2mm=px2mm, ls_lw=ls_lw, blur_pos=blur_pos)), ls_kernel))\n",
    "print('lineprofile done')\n",
    "\n",
    "# determine O2 concentration within the whole image\n",
    "dO2_optode = dict(map(lambda k: \n",
    "                      (k, O2blur_optode(kshape=k, inp=inp, path_calib=file_calib, px2mm=px2mm, kernel=kernel, \n",
    "                                        dint_ch1=dint_ch1, dint_ch2=dint_ch2, surface=surface, blur_pos=blur_pos,\n",
    "                                        depth_min=depth_op[0], depth_max=depth_op[1])), ls_kernel))"
   ]
  },
  {
   "cell_type": "markdown",
   "id": "b7c8e5df",
   "metadata": {},
   "source": [
    "Visualize image blur along line profile"
   ]
  },
  {
   "cell_type": "code",
   "execution_count": 29,
   "id": "b8c7261d",
   "metadata": {},
   "outputs": [
    {
     "name": "stderr",
     "output_type": "stream",
     "text": [
      "/Users/au652733/Python/Project_NoiseResolution/functions_NoiseStudy.py:448: RuntimeWarning: More than 20 figures have been opened. Figures created through the pyplot interface (`matplotlib.pyplot.figure`) are retained until explicitly closed and may consume too much memory. (To control this warning, see the rcParam `figure.max_open_warning`).\n",
      "  fig_lp = plt.figure(figsize=(arg['figsize']), dpi=100)\n"
     ]
    }
   ],
   "source": [
    "# prepare microsensor for joint visualization\n",
    "df_ms = prepMS_plot(index_lp=dO2_lp[ls_kernel[0]]['vertical'][ls_lw[0]].index, dic_micro=dic_micro, \n",
    "                    offset=arg['offset ms'])\n",
    "\n",
    "# plot lineprofile and excerpt of optode \n",
    "dimages = dict()\n",
    "for k in ls_kernel:\n",
    "    fig_lp = plotLP(kshape=k, dO2_lp=dO2_lp, dO2_optode=dO2_optode, df_ms=df_ms, arg=arg, \n",
    "                    header_ms=['Depth (mm)', 'Intensity'], depth_lp=depth_lp, s=inp.split(',')[1].strip(),\n",
    "                    depth=df_ms['Depth (mm)'])\n",
    "    dimages[k] = fig_lp "
   ]
  },
  {
   "cell_type": "markdown",
   "id": "e989833e",
   "metadata": {},
   "source": [
    "O$_2$ penetration depth"
   ]
  },
  {
   "cell_type": "code",
   "execution_count": 30,
   "id": "ddbb3ba3",
   "metadata": {},
   "outputs": [],
   "source": [
    "# set O2 level used for calculating the penetration depth in %air\n",
    "threshold = 5.\n",
    "\n",
    "# O2 penetration depth - returns a list (mean, min, max)\n",
    "ydepth = penetration_depth(dO2_lp=dO2_lp, ls_kernel=ls_kernel, df_ms=df_ms, \n",
    "                           treshold=threshold)\n",
    "\n",
    "# plotting penetration depth for different kernel sizes and functions\n",
    "fig_Rpen = plot_penetrationDepth(depth=ydepth[0], ls_kernel=[round(l[1] / px2mm, 5) \n",
    "                                                             for l in ls_kernel], arg=arg)\n",
    "fig_Rpen.axes[0].set_xlabel('kernel size [mm]')\n",
    "plt.show()"
   ]
  },
  {
   "cell_type": "code",
   "execution_count": null,
   "id": "43f79f89",
   "metadata": {},
   "outputs": [],
   "source": []
  },
  {
   "cell_type": "markdown",
   "id": "c24057c2",
   "metadata": {},
   "source": [
    "### Save plots"
   ]
  },
  {
   "cell_type": "code",
   "execution_count": 17,
   "id": "040e31e1",
   "metadata": {},
   "outputs": [],
   "source": [
    "now = datetime.datetime.now() \n",
    "\n",
    "# .....................................\n",
    "name_DP_ = save_dir_plots + '/' + now.strftime(\"%Y%m%d-%H%M%S\") + '_DepthProfile_'\n",
    "name_DP_ += kernel + '-blur_' + blur_pos +'Intensity_' + '-'.join([i.strip() \n",
    "                                                                   for i in inp.split(',')])\n",
    "for k in dimages.keys():\n",
    "    name_DP = name_DP_ + '_kernel-order' + str(k[0]) +'-window-'+ str(k[1]) + '.'\n",
    "    for t in type_plot:\n",
    "        dimages[k].savefig(name_DP + t, dpi=300, transparent=False)\n",
    "\n",
    "# .....................................\n",
    "name_pen = save_dir_plots + '/' + now.strftime(\"%Y%m%d-%H%M%S\") + '_PenetrationDepth_'\n",
    "name_pen += kernel + '-blur_' + blur_pos + 'Intensity-' + '-'.join([i.strip()\n",
    "                                                                    for i in inp.split(',')])\n",
    "for t in type_plot:\n",
    "    if fig_Rpen:\n",
    "        fig_Rpen.savefig(name_pen + '.' + t, dpi=300, transparent=False)"
   ]
  },
  {
   "cell_type": "code",
   "execution_count": null,
   "id": "639a8f4c",
   "metadata": {},
   "outputs": [],
   "source": []
  }
 ],
 "metadata": {
  "kernelspec": {
   "display_name": "Python 3",
   "language": "python",
   "name": "python3"
  },
  "language_info": {
   "codemirror_mode": {
    "name": "ipython",
    "version": 3
   },
   "file_extension": ".py",
   "mimetype": "text/x-python",
   "name": "python",
   "nbconvert_exporter": "python",
   "pygments_lexer": "ipython3",
   "version": "3.8.8"
  }
 },
 "nbformat": 4,
 "nbformat_minor": 5
}
