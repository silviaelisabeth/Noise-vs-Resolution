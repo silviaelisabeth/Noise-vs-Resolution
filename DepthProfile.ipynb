{
 "cells": [
  {
   "cell_type": "markdown",
   "metadata": {},
   "source": [
    "#### import functions"
   ]
  },
  {
   "cell_type": "code",
   "execution_count": 2,
   "metadata": {
    "execution": {
     "iopub.execute_input": "2021-01-05T07:42:05.173058Z",
     "iopub.status.busy": "2021-01-05T07:42:05.173058Z",
     "iopub.status.idle": "2021-01-05T07:42:05.201528Z",
     "shell.execute_reply": "2021-01-05T07:42:05.201528Z",
     "shell.execute_reply.started": "2021-01-05T07:42:05.173058Z"
    }
   },
   "outputs": [
    {
     "name": "stdout",
     "output_type": "stream",
     "text": [
      "Using matplotlib backend: MacOSX\n"
     ]
    }
   ],
   "source": [
    "%run functions_NoiseStudy.py\n",
    "%matplotlib \n",
    "\n",
    "# global variables\n",
    "fs = 13\n",
    "type_plot = ['png', 'svg']"
   ]
  },
  {
   "cell_type": "raw",
   "metadata": {},
   "source": [
    "# Notebook Description\n",
    "Effect of kernel size and direction when the initial images are blured using a Gaussian \n",
    "filter either along the horizontal or the vertical axis or along both axes using a squared kernel box. A depth profile is drawn from the oxic headspace to the anxoic water body to compare the O2 resolution of the optode and validated against a microsensor. \n",
    "Finally, the O2 penetration depth is compared for different kernel sizes.\n",
    "\n",
    "All parts requiring user input are marked as [USER INPUT]\n",
    "\n",
    "# -------------------------------\n",
    "# Table of Content\n",
    "0. Directory for data storage\n",
    "1. Load data\n",
    "2. Determine O2 concentration\n",
    "3. Image blur\n",
    "4. Visualize image blur as line profile\n",
    "5. O2 penetration depth\n",
    "6. Save results\n"
   ]
  },
  {
   "cell_type": "code",
   "execution_count": null,
   "metadata": {},
   "outputs": [],
   "source": []
  },
  {
   "cell_type": "markdown",
   "metadata": {},
   "source": [
    "### 0. Directory for data storage"
   ]
  },
  {
   "cell_type": "code",
   "execution_count": 3,
   "metadata": {
    "execution": {
     "iopub.execute_input": "2021-01-05T07:42:06.364894Z",
     "iopub.status.busy": "2021-01-05T07:42:06.364894Z",
     "iopub.status.idle": "2021-01-05T07:42:06.373918Z",
     "shell.execute_reply": "2021-01-05T07:42:06.373918Z",
     "shell.execute_reply.started": "2021-01-05T07:42:06.364894Z"
    }
   },
   "outputs": [],
   "source": [
    "# actual evaluation time\n",
    "now = datetime.datetime.now()\n",
    "today = now.strftime(\"%Y%m%d\")\n",
    "\n",
    "# output folder\n",
    "save_dir_plots = 'plots/' + today + '_measurement'\n",
    "if not os.path.exists(save_dir_plots):\n",
    "    os.makedirs(save_dir_plots)\n",
    "    \n",
    "save_dir_res = 'Results/' + today + '_measurement'\n",
    "if not os.path.exists(save_dir_res):\n",
    "    os.makedirs(save_dir_res)"
   ]
  },
  {
   "cell_type": "code",
   "execution_count": null,
   "metadata": {},
   "outputs": [],
   "source": []
  },
  {
   "cell_type": "markdown",
   "metadata": {},
   "source": [
    "### 1. Load data"
   ]
  },
  {
   "cell_type": "code",
   "execution_count": 4,
   "metadata": {},
   "outputs": [],
   "source": [
    "# [USER INPUT]\n",
    "# depth profile microsensor\n",
    "file_ms = '/Volumes/HIS-CAMEL/04measurementData/20201127_Noise-vs-resolution-paper/Klaus_Optode_noise_study_26-11-2020/O2gradient_experiement/profiles.txt'\n",
    "\n",
    "# calibration data \n",
    "file_calib = 'Results/20210531_calibration/20210531-1455_calibration_1RoI.hdf5'\n",
    "\n",
    "# measurement data - images of the optode\n",
    "file_meas = '/Volumes/HIS-CAMEL/04measurementData/20201127_Noise-vs-resolution-paper/Klaus_Optode_noise_study_26-11-2020/O2gradient_experiement/'"
   ]
  },
  {
   "cell_type": "markdown",
   "metadata": {},
   "source": [
    "##### additional information"
   ]
  },
  {
   "cell_type": "code",
   "execution_count": 73,
   "metadata": {},
   "outputs": [
    {
     "name": "stdout",
     "output_type": "stream",
     "text": [
      "Image resolution: 1cm equals: 28.02px, i.e. 712dpi\n"
     ]
    }
   ],
   "source": [
    "# image cropping to the region of interest (RoI) that should be analyzed\n",
    "RoI_op = [[(730, 200), (730, 1250), (1290, 1250), (1290, 200)],   # optode1\n",
    "          [(1560, 200), (1560, 1250), (2100, 1250), (2100, 200)]] # optode2\n",
    "\n",
    "# Image resolution - determine conversion factor px -> mm \n",
    "# user definition using f.ex. imageJ\n",
    "px2mm, dpi = image_resolution(px=840.6646, dist_mm=30., inch=1.1811)\n",
    "print('Image resolution: 1cm equals: {:.2f}px, i.e. {:.0f}dpi'.format(px2mm, dpi))"
   ]
  },
  {
   "cell_type": "code",
   "execution_count": 74,
   "metadata": {},
   "outputs": [],
   "source": [
    "# load depth profile(s) of the microsensir for validation of the depth profile\n",
    "dic_micro = read_microsensor(file_ms=file_ms, encoding='latin-1')\n",
    "\n",
    "# load measurement data and crop according to the RoI\n",
    "dict_ratio = splitImage(path=file_meas, RoI_op=RoI_op)"
   ]
  },
  {
   "cell_type": "code",
   "execution_count": null,
   "metadata": {},
   "outputs": [],
   "source": []
  },
  {
   "cell_type": "markdown",
   "metadata": {},
   "source": [
    "### 2. Determine O2 concentration in each pixel and each measurement\n",
    "using the Stern-Volmer equation and the respective calibration fit"
   ]
  },
  {
   "cell_type": "code",
   "execution_count": 54,
   "metadata": {},
   "outputs": [
    {
     "name": "stdout",
     "output_type": "stream",
     "text": [
      "Which optode and which setting shall be visualized? optode1, set2\n"
     ]
    }
   ],
   "source": [
    "# one example of one optode\n",
    "inp = input('Which optode and which setting shall be visualized? ') # optode1, set2"
   ]
  },
  {
   "cell_type": "code",
   "execution_count": null,
   "metadata": {},
   "outputs": [],
   "source": []
  },
  {
   "cell_type": "markdown",
   "metadata": {},
   "source": [
    "### 3. Image blur"
   ]
  },
  {
   "cell_type": "code",
   "execution_count": 124,
   "metadata": {},
   "outputs": [],
   "source": [
    "# preparation lineprofile\n",
    "surface = (12.9, 12.) # optode 1, optode2\n",
    "depth_lp = (-4, 4) # depth for 2D line profile \n",
    "depth_op =  (-1.5, 1.) # depth for optode excerpt\n",
    "pos_lp = (7., 3.) # position of the depth profile within the optode\n",
    "ls_lw = [0] # line with of the drawn depth profile\n",
    "\n",
    "# kernel size\n",
    "kernel='gauss'\n",
    "ls_kernel = [(1,1), (5, 5), (11, 11), (15, 15), (21, 21), (25, 25), (31, 31), (35, 35),\n",
    "             (41, 41), (45, 45), (51 ,51), (55, 55), (61, 61), (65, 65), (71, 71), \n",
    "             (75, 75), (81, 81)]  \n",
    "\n",
    "# .................................................................\n",
    "# additional information for visualization\n",
    "arg = dict({'curve lw': 1.5, 'vmin':-5, 'vmax': 130, 'lw': 0.0, 'offset ms': 0.2,\n",
    "           'aspect': 4, 'cmap': plt.cm.inferno, 'vmin op': 0, 'vmax op': 100,\n",
    "           'figsize': (12, 5), 'fontsize': 11, 'marker': ['o', 'd', 'x', '.'],\n",
    "           'colors': ['slategrey', 'darkorange', 'forestgreen', 'k']})"
   ]
  },
  {
   "cell_type": "markdown",
   "metadata": {},
   "source": [
    "line profile"
   ]
  },
  {
   "cell_type": "code",
   "execution_count": 94,
   "metadata": {},
   "outputs": [],
   "source": [
    "# determine O2 concentration for the depth profile (1D) for different image blurs\n",
    "dO2_lp = dict(map(lambda k: \n",
    "                  (k, O2_lineprofile_compare_v1(inp=inp, surface=surface, kernel=kernel, \n",
    "                                                kshape=k, lp=pos_lp, path_calib=file_calib,\n",
    "                                                dratio=dict_ratio[0], px2mm=px2mm, \n",
    "                                                ls_lw=ls_lw)), ls_kernel))"
   ]
  },
  {
   "cell_type": "markdown",
   "metadata": {},
   "source": [
    "optode image"
   ]
  },
  {
   "cell_type": "code",
   "execution_count": 96,
   "metadata": {},
   "outputs": [],
   "source": [
    "# determine O2 concentration for different image blurs for an excerpt of the optode in 2D\n",
    "dO2_optode = dict(map(lambda k: \n",
    "                  (k, O2blur_optode(kshape=k, inp=inp, path_calib=file_calib, px2mm=px2mm,\n",
    "                                    kernel=kernel, dratio=dict_ratio[0], surface=surface, \n",
    "                                    depth_min=depth_op[0], depth_max=depth_op[1])),\n",
    "                      ls_kernel))"
   ]
  },
  {
   "cell_type": "code",
   "execution_count": null,
   "metadata": {},
   "outputs": [],
   "source": []
  },
  {
   "cell_type": "markdown",
   "metadata": {},
   "source": [
    "### 4. Visualize image blur as line profile"
   ]
  },
  {
   "cell_type": "code",
   "execution_count": 97,
   "metadata": {},
   "outputs": [],
   "source": [
    "# prepare microsensor for joint visualization\n",
    "df_ms = prepMS_plot(index_lp=dO2_lp[ls_kernel[0]]['vertical'][ls_lw[0]].index,\n",
    "                    dic_micro=dic_micro, offset=arg['offset ms'])\n",
    "\n",
    "# plot lineprofile and excerpt of optode \n",
    "dimages = dict()\n",
    "for k in ls_kernel:\n",
    "    fig_lp = plotLP(kshape=k, dO2_lp=dO2_lp, dO2_optode=dO2_optode, df_ms=df_ms, arg=arg,\n",
    "                    header_ms=['Depth (mm)', 'Intensity'], depth_lp=depth_lp, \n",
    "                    s=inp.split(',')[1].strip(), depth=df_ms['Depth (mm)'])\n",
    "    dimages[k] = fig_lp"
   ]
  },
  {
   "cell_type": "code",
   "execution_count": 125,
   "metadata": {
    "scrolled": true
   },
   "outputs": [],
   "source": [
    "fig = plotLP(kshape=(51,51), dO2_lp=dO2_lp, dO2_optode=dO2_optode, df_ms=df_ms, arg=arg,\n",
    "                    header_ms=['Depth (mm)', 'Intensity'], depth_lp=depth_lp, \n",
    "                    s=inp.split(',')[1].strip(), depth=df_ms['Depth (mm)'])"
   ]
  },
  {
   "cell_type": "code",
   "execution_count": null,
   "metadata": {},
   "outputs": [],
   "source": []
  },
  {
   "cell_type": "code",
   "execution_count": null,
   "metadata": {},
   "outputs": [],
   "source": []
  },
  {
   "cell_type": "markdown",
   "metadata": {},
   "source": [
    "### 5. O2 penetration depth"
   ]
  },
  {
   "cell_type": "code",
   "execution_count": 98,
   "metadata": {},
   "outputs": [],
   "source": [
    "# set O2 level used for calculating the penetration depth in %air\n",
    "treshold = 5."
   ]
  },
  {
   "cell_type": "code",
   "execution_count": 100,
   "metadata": {},
   "outputs": [],
   "source": [
    "# O2 penetration depth\n",
    "ydepth = penetration_depth(dO2_lp=dO2_lp, ls_kernel=ls_kernel, df_ms=df_ms, \n",
    "                           treshold=treshold)\n",
    "\n",
    "# plotting penetration depth for different kernel sizes and functions\n",
    "fig_pen = plot_penetrationDepth(depth=ydepth, ls_kernel=ls_kernel, arg=arg)\n",
    "plt.show()"
   ]
  },
  {
   "cell_type": "code",
   "execution_count": null,
   "metadata": {},
   "outputs": [],
   "source": []
  },
  {
   "cell_type": "markdown",
   "metadata": {},
   "source": [
    "### 6. Save results\n",
    "save depth profile"
   ]
  },
  {
   "cell_type": "code",
   "execution_count": 101,
   "metadata": {},
   "outputs": [],
   "source": [
    "now = datetime.datetime.now() \n",
    "name_DP_ = save_dir_plots + '/' + now.strftime(\"%Y%m%d-%H%M%S\") + '_DepthProfile_' + '-'.join([i.strip() for i in inp.split(',')])\n",
    "\n",
    "for k in dimages.keys():\n",
    "    name_DP = name_DP_ + '_kernel-' + str(k[0]) + '.'\n",
    "    for t in type_plot:\n",
    "        dimages[k].savefig(name_DP + t, dpi=300, transparent=False)"
   ]
  },
  {
   "cell_type": "markdown",
   "metadata": {},
   "source": [
    "save penetration depth"
   ]
  },
  {
   "cell_type": "code",
   "execution_count": 102,
   "metadata": {},
   "outputs": [],
   "source": [
    "name_pen = save_dir_plots + '/' + now.strftime(\"%Y%m%d-%H%M%S\") + '_PenetrationDepth_' + '-'.join([i.strip() for i in inp.split(',')])\n",
    "\n",
    "for t in type_plot:\n",
    "    fig_pen.savefig(name_pen + '.' + t, dpi=300, transparent=False)"
   ]
  },
  {
   "cell_type": "code",
   "execution_count": null,
   "metadata": {},
   "outputs": [],
   "source": []
  }
 ],
 "metadata": {
  "kernelspec": {
   "display_name": "Python 3",
   "language": "python",
   "name": "python3"
  },
  "language_info": {
   "codemirror_mode": {
    "name": "ipython",
    "version": 3
   },
   "file_extension": ".py",
   "mimetype": "text/x-python",
   "name": "python",
   "nbconvert_exporter": "python",
   "pygments_lexer": "ipython3",
   "version": "3.8.8"
  }
 },
 "nbformat": 4,
 "nbformat_minor": 4
}
