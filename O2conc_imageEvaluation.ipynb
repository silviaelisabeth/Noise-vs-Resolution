{
 "cells": [
  {
   "cell_type": "markdown",
   "metadata": {},
   "source": [
    "#### import functions"
   ]
  },
  {
   "cell_type": "code",
   "execution_count": 9,
   "metadata": {
    "execution": {
     "iopub.execute_input": "2021-01-05T07:42:05.173058Z",
     "iopub.status.busy": "2021-01-05T07:42:05.173058Z",
     "iopub.status.idle": "2021-01-05T07:42:05.201528Z",
     "shell.execute_reply": "2021-01-05T07:42:05.201528Z",
     "shell.execute_reply.started": "2021-01-05T07:42:05.173058Z"
    }
   },
   "outputs": [
    {
     "name": "stdout",
     "output_type": "stream",
     "text": [
      "Using matplotlib backend: MacOSX\n"
     ]
    }
   ],
   "source": [
    "%run functions_NoiseStudy.py\n",
    "%matplotlib \n",
    "\n",
    "# global variables for plot savings\n",
    "fs = 13\n",
    "type_plot = ['png', 'svg']"
   ]
  },
  {
   "cell_type": "raw",
   "metadata": {},
   "source": [
    "# Notebook Description\n",
    "Determination of the oxygen concentration upon optode imaging. Based on the calibration, \n",
    "the oxygen content is determined in each pixel of each measurement and includes the uncertainty propagated along the calibration process. \n",
    "The uncertainty propagation is calculated according to Taulor J.R. unsing the uncertainty package developed by E.O. Lebigot.[1] For non-linear uncertainty propagation during the fit process, we used the Monte Carlo Error Propagation developed by A.Lee.[2] \n",
    "All parts requiring user input are marked as [USER INPUT]\n",
    "\n",
    "# -------------------------------\n",
    "# Table of Content\n",
    "0. Directory for data storage\n",
    "1. Load data\n",
    "2. Determine O2 concentration\n",
    "3. Plotting (3D or 2D)\n",
    "4. Save results\n",
    "\n",
    "# -------------------------------\n",
    "# References\n",
    "[1] Lebigot, E.O. Uncertainties: a Python package for calculations with uncertainties,\n",
    "    http://pythonhosted.org/uncertainties/.\n",
    "[2] Lee, A. mcerp Python Packag, https://github.com/tisimst/mcerp."
   ]
  },
  {
   "cell_type": "code",
   "execution_count": null,
   "metadata": {},
   "outputs": [],
   "source": []
  },
  {
   "cell_type": "markdown",
   "metadata": {},
   "source": [
    "### 0. Directory for data storage"
   ]
  },
  {
   "cell_type": "code",
   "execution_count": 2,
   "metadata": {
    "execution": {
     "iopub.execute_input": "2021-01-05T07:42:06.364894Z",
     "iopub.status.busy": "2021-01-05T07:42:06.364894Z",
     "iopub.status.idle": "2021-01-05T07:42:06.373918Z",
     "shell.execute_reply": "2021-01-05T07:42:06.373918Z",
     "shell.execute_reply.started": "2021-01-05T07:42:06.364894Z"
    }
   },
   "outputs": [],
   "source": [
    "# actual evaluation time\n",
    "now = datetime.datetime.now()\n",
    "today = now.strftime(\"%Y%m%d\")\n",
    "\n",
    "# output folder\n",
    "save_dir_plots = 'plots/' + today + '_measurement'\n",
    "if not os.path.exists(save_dir_plots):\n",
    "    os.makedirs(save_dir_plots)\n",
    "    \n",
    "save_dir_res = 'Results/' + today + '_measurement'\n",
    "if not os.path.exists(save_dir_res):\n",
    "    os.makedirs(save_dir_res)"
   ]
  },
  {
   "cell_type": "code",
   "execution_count": null,
   "metadata": {},
   "outputs": [],
   "source": []
  },
  {
   "cell_type": "markdown",
   "metadata": {},
   "source": [
    "### 1. Load data"
   ]
  },
  {
   "cell_type": "code",
   "execution_count": 3,
   "metadata": {},
   "outputs": [],
   "source": [
    "# [USER INPUT]\n",
    "# calibration data \n",
    "file_calib = 'Results/20210531_calibration/20210531-1455_calibration_1RoI.hdf5'\n",
    "\n",
    "# measurement data - images of the optode\n",
    "file_meas = '/Volumes/HIS-CAMEL/04measurementData/20201127_Noise-vs-resolution-paper/Klaus_Optode_noise_study_26-11-2020/O2gradient_experiement/'\n"
   ]
  },
  {
   "cell_type": "markdown",
   "metadata": {},
   "source": [
    "##### additional information"
   ]
  },
  {
   "cell_type": "code",
   "execution_count": 4,
   "metadata": {},
   "outputs": [
    {
     "name": "stdout",
     "output_type": "stream",
     "text": [
      "Image resolution: 1cm equals: 28.02px, i.e. 712dpi\n"
     ]
    }
   ],
   "source": [
    "# image cropping to region of interest (RoI) that should be analyzed\n",
    "RoI_op = [[(730, 200), (730, 1250), (1290, 1250), (1290, 200)],   # optode1\n",
    "          [(1560, 200), (1560, 1250), (2100, 1250), (2100, 200)]] # optode2\n",
    "\n",
    "# Image resolution - determine conversion factor px -> mm - user definition using\n",
    "# f.ex. imageJ\n",
    "px2mm, dpi = image_resolution(px=840.6646, dist_mm=30., inch=1.1811)\n",
    "print('Image resolution: 1cm equals: {:.2f}px, i.e. {:.0f}dpi'.format(px2mm, dpi))"
   ]
  },
  {
   "cell_type": "code",
   "execution_count": 5,
   "metadata": {},
   "outputs": [],
   "source": [
    "# load calibration data\n",
    "dic_header, dinitial, dnorm, dpara = load_calibResults(path_calib=file_calib)\n",
    "\n",
    "# load measurement data and crop according to RoI\n",
    "dict_ratio_run1, dict_ratio_run2 = splitImage(path=file_meas, RoI_op=RoI_op)"
   ]
  },
  {
   "cell_type": "code",
   "execution_count": null,
   "metadata": {},
   "outputs": [],
   "source": []
  },
  {
   "cell_type": "markdown",
   "metadata": {},
   "source": [
    "### 2. Determine O2 concentration in each pixel and each measurement\n",
    "using the Stern-Volmer equation and the respective calibration fit"
   ]
  },
  {
   "cell_type": "code",
   "execution_count": 19,
   "metadata": {},
   "outputs": [
    {
     "name": "stdout",
     "output_type": "stream",
     "text": [
      "Which optode and which setting shall be visualized? optode1, set2\n",
      "Which measurement shall be visualized - 1 or 2?2\n"
     ]
    }
   ],
   "source": [
    "# one example of one optode\n",
    "inp = input('Which optode and which setting shall be visualized? ') # optode1, set2\n",
    "run = input('Which measurement shall be visualized - 1 or 2?') # 1,2"
   ]
  },
  {
   "cell_type": "code",
   "execution_count": 13,
   "metadata": {},
   "outputs": [
    {
     "name": "stdout",
     "output_type": "stream",
     "text": [
      "optode1 ...\n",
      "optode2 ...\n",
      "post-processing...\n"
     ]
    }
   ],
   "source": [
    "# [USER input] - define surface depth within the image\n",
    "surface = (12.9, 12.) # optode 1, optode2\n",
    "\n",
    "# Oxygen concentration determination\n",
    "dO2, dO2_av, dO2_SD = o2_calculation(inp=inp, dict_ratio_run1=dict_ratio_run1, run=run, \n",
    "                                     dpara=dpara, surface=surface, px2mm=px2mm, \n",
    "                                     splitdata=True, dict_ratio_run2=dict_ratio_run2)"
   ]
  },
  {
   "cell_type": "code",
   "execution_count": null,
   "metadata": {},
   "outputs": [],
   "source": []
  },
  {
   "cell_type": "markdown",
   "metadata": {},
   "source": [
    "### 3. Plot optode as 3D or 2D"
   ]
  },
  {
   "cell_type": "code",
   "execution_count": 17,
   "metadata": {},
   "outputs": [],
   "source": [
    "# 3D visualization\n",
    "sns.set_style('darkgrid')\n",
    "fig3D, ax3D = plot_wholeImage3D(dO2_mean=dO2_av[inp.split(',')[0]][inp.split(',')[1].strip()],\n",
    "                                unit='mm', pad=2)\n",
    "plt.show()   "
   ]
  },
  {
   "cell_type": "code",
   "execution_count": 18,
   "metadata": {},
   "outputs": [],
   "source": [
    "# 2D projection\n",
    "depth_range = (-2.5, 2.5)\n",
    "width_range = (2., 20.)\n",
    "\n",
    "sns.set_style('ticks')\n",
    "fig2D, ax2D = plot_optode2D(o=inp.split(',')[0], s=inp.split(',')[1].strip(), px2mm=px2mm, \n",
    "                            surface=surface, dO2_av=dO2_av, depth_range=depth_range,\n",
    "                            width_range=width_range, vmin=0, vmax=100)\n",
    "plt.show() "
   ]
  },
  {
   "cell_type": "code",
   "execution_count": null,
   "metadata": {},
   "outputs": [],
   "source": []
  },
  {
   "cell_type": "markdown",
   "metadata": {},
   "source": [
    "### 4. Save results\n",
    "save figures"
   ]
  },
  {
   "cell_type": "code",
   "execution_count": 51,
   "metadata": {},
   "outputs": [],
   "source": [
    "now = datetime.datetime.now() \n",
    "name3D = save_dir_plots + '/' + now.strftime(\"%Y%m%d-%H%M%S\") + '_optode3D_' + '-'.join([i.strip() for i in inp.split(',')])\n",
    "name2D = save_dir_plots + '/' + now.strftime(\"%Y%m%d-%H%M%S\") + '_optode2D_' + '-'.join([i.strip() for i in inp.split(',')])\n",
    "for i in type_plot:\n",
    "    fig3D.savefig(name3D + '.{}'.format(i), dpi=dpi) \n",
    "    fig2D.savefig(name2D + '.{}'.format(i), dpi=dpi) "
   ]
  },
  {
   "cell_type": "markdown",
   "metadata": {},
   "source": [
    "save determined O2"
   ]
  },
  {
   "cell_type": "code",
   "execution_count": 52,
   "metadata": {},
   "outputs": [
    {
     "name": "stdout",
     "output_type": "stream",
     "text": [
      "saving done\n"
     ]
    }
   ],
   "source": [
    "eval_time = now.strftime(\"%Y%m%d-%H%M\")\n",
    "save_name = save_dir_res + '/' + eval_time + '_O2calc_run' + run + '.hdf5'\n",
    "save_o2results(save_name=save_name, inp=inp, file_meas=file_meas, RoI_op=RoI_op,\n",
    "               px2mm=px2mm, surface=surface, dO2_av=dO2_av, dO2_SD=dO2_SD)"
   ]
  },
  {
   "cell_type": "code",
   "execution_count": null,
   "metadata": {},
   "outputs": [],
   "source": []
  }
 ],
 "metadata": {
  "kernelspec": {
   "display_name": "Python 3",
   "language": "python",
   "name": "python3"
  },
  "language_info": {
   "codemirror_mode": {
    "name": "ipython",
    "version": 3
   },
   "file_extension": ".py",
   "mimetype": "text/x-python",
   "name": "python",
   "nbconvert_exporter": "python",
   "pygments_lexer": "ipython3",
   "version": "3.8.8"
  }
 },
 "nbformat": 4,
 "nbformat_minor": 4
}
