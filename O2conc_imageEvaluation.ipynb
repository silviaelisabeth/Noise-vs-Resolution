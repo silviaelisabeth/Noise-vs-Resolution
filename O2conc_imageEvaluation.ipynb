{
 "cells": [
  {
   "cell_type": "markdown",
   "metadata": {},
   "source": [
    "#### import functions"
   ]
  },
  {
   "cell_type": "code",
   "execution_count": 1,
   "metadata": {
    "execution": {
     "iopub.execute_input": "2021-01-05T07:42:05.173058Z",
     "iopub.status.busy": "2021-01-05T07:42:05.173058Z",
     "iopub.status.idle": "2021-01-05T07:42:05.201528Z",
     "shell.execute_reply": "2021-01-05T07:42:05.201528Z",
     "shell.execute_reply.started": "2021-01-05T07:42:05.173058Z"
    }
   },
   "outputs": [
    {
     "name": "stdout",
     "output_type": "stream",
     "text": [
      "Using matplotlib backend: MacOSX\n"
     ]
    }
   ],
   "source": [
    "%run functions_NoiseStudy.py\n",
    "%matplotlib \n",
    "\n",
    "# global variables for plot savings\n",
    "fs = 13\n",
    "type_plot = ['png', 'svg']"
   ]
  },
  {
   "cell_type": "raw",
   "metadata": {},
   "source": [
    "# Notebook Description\n",
    "Determination of the oxygen concentration upon optode imaging. Based on the calibration, \n",
    "the oxygen content is determined in each pixel of each measurement and includes the uncertainty propagated along the calibration process. \n",
    "The uncertainty propagation is calculated according to Taulor J.R. unsing the uncertainty package developed by E.O. Lebigot.[1] For non-linear uncertainty propagation during the fit process, we used the Monte Carlo Error Propagation developed by A.Lee.[2] \n",
    "All parts requiring user input are marked as [USER INPUT]\n",
    "\n",
    "# -------------------------------\n",
    "# Table of Content\n",
    "0. Directory for data storage\n",
    "1. Load data\n",
    "2. Determine O2 concentration\n",
    "3. Plotting (3D or 2D)\n",
    "4. Save results\n",
    "\n",
    "# -------------------------------\n",
    "# References\n",
    "[1] Lebigot, E.O. Uncertainties: a Python package for calculations with uncertainties,\n",
    "    http://pythonhosted.org/uncertainties/.\n",
    "[2] Lee, A. mcerp Python Packag, https://github.com/tisimst/mcerp."
   ]
  },
  {
   "cell_type": "code",
   "execution_count": null,
   "metadata": {},
   "outputs": [],
   "source": []
  },
  {
   "cell_type": "markdown",
   "metadata": {},
   "source": [
    "### 0. Directory for data storage"
   ]
  },
  {
   "cell_type": "code",
   "execution_count": 2,
   "metadata": {
    "execution": {
     "iopub.execute_input": "2021-01-05T07:42:06.364894Z",
     "iopub.status.busy": "2021-01-05T07:42:06.364894Z",
     "iopub.status.idle": "2021-01-05T07:42:06.373918Z",
     "shell.execute_reply": "2021-01-05T07:42:06.373918Z",
     "shell.execute_reply.started": "2021-01-05T07:42:06.364894Z"
    }
   },
   "outputs": [],
   "source": [
    "# actual evaluation time\n",
    "now = datetime.datetime.now()\n",
    "today = now.strftime(\"%Y%m%d\")\n",
    "\n",
    "# output folder\n",
    "save_dir_plots = 'plots/' + today + '_measurement'\n",
    "if not os.path.exists(save_dir_plots):\n",
    "    os.makedirs(save_dir_plots)\n",
    "    \n",
    "save_dir_res = 'Results/' + today + '_measurement'\n",
    "if not os.path.exists(save_dir_res):\n",
    "    os.makedirs(save_dir_res)"
   ]
  },
  {
   "cell_type": "code",
   "execution_count": null,
   "metadata": {},
   "outputs": [],
   "source": []
  },
  {
   "cell_type": "markdown",
   "metadata": {},
   "source": [
    "### 1. Load data"
   ]
  },
  {
   "cell_type": "code",
   "execution_count": 3,
   "metadata": {},
   "outputs": [],
   "source": [
    "# [USER INPUT]\n",
    "# calibration data \n",
    "file_calib = 'Results/20210531_calibration/20210531-1455_calibration_1RoI.hdf5'\n",
    "\n",
    "# measurement data - images of the optode\n",
    "file_meas = '/Volumes/HIS-CAMEL/04measurementData/20201127_Noise-vs-resolution-paper/Klaus_Optode_noise_study_26-11-2020/O2gradient_experiement/'\n"
   ]
  },
  {
   "cell_type": "markdown",
   "metadata": {},
   "source": [
    "##### additional information"
   ]
  },
  {
   "cell_type": "code",
   "execution_count": 4,
   "metadata": {},
   "outputs": [
    {
     "name": "stdout",
     "output_type": "stream",
     "text": [
      "Image resolution: 1cm equals: 28.02px, i.e. 712dpi\n"
     ]
    }
   ],
   "source": [
    "# image cropping to region of interest (RoI) that should be analyzed\n",
    "RoI_op = [[(730, 200), (730, 1250), (1290, 1250), (1290, 200)],   # optode1\n",
    "          [(1560, 200), (1560, 1250), (2100, 1250), (2100, 200)]] # optode2\n",
    "\n",
    "# Image resolution - determine conversion factor px -> mm - user definition using\n",
    "# f.ex. imageJ\n",
    "px2mm, dpi = image_resolution(px=840.6646, dist_mm=30., inch=1.1811)\n",
    "print('Image resolution: 1cm equals: {:.2f}px, i.e. {:.0f}dpi'.format(px2mm, dpi))"
   ]
  },
  {
   "cell_type": "code",
   "execution_count": 27,
   "metadata": {},
   "outputs": [],
   "source": [
    "# load calibration data\n",
    "# dic_header, dinitial, dnorm, dpara = load_calibResults(path_calib=file_calib)\n",
    "calib_info = load_calibration_para_v1(path_calib=file_calib)\n",
    "\n",
    "# load measurement data and crop according to RoI\n",
    "dint_red, dint_green, dint_ratio = splitImage(path=file_meas, RoI_op=RoI_op)"
   ]
  },
  {
   "cell_type": "code",
   "execution_count": null,
   "metadata": {},
   "outputs": [],
   "source": []
  },
  {
   "cell_type": "markdown",
   "metadata": {},
   "source": [
    "### 2. Determine O2 concentration in each pixel and each measurement\n",
    "using the Stern-Volmer equation and the respective calibration fit"
   ]
  },
  {
   "cell_type": "code",
   "execution_count": 6,
   "metadata": {
    "scrolled": true
   },
   "outputs": [
    {
     "name": "stdout",
     "output_type": "stream",
     "text": [
      "Which optode and which setting shall be visualized? optode1, set2\n",
      "Which measurement shall be visualized - 1 or 2?1\n"
     ]
    }
   ],
   "source": [
    "# one example of one optode\n",
    "inp = input('Which optode and which setting shall be visualized? ') # optode1, set2\n",
    "run = input('Which measurement shall be visualized - 1 or 2?') # 1,2"
   ]
  },
  {
   "cell_type": "code",
   "execution_count": 46,
   "metadata": {},
   "outputs": [],
   "source": [
    "# [USER input] - define surface depth within the image\n",
    "surface = (12.9, 12.) # optode 1, optode2\n",
    "depth_op =  (-1.5, 1.)  # depth for optode excerpt\n",
    "\n",
    "# .................\n",
    "# Oxygen concentration determination\n",
    "dO2_optode = O2blur_optode(kshape=(1,1), inp=inp, path_calib=file_calib, px2mm=px2mm, kernel='gauss', \n",
    "                           dint_ch1=dint_ratio[inp.split(',')[0]][inp.split(',')[-1].strip()], dint_ch2=None,\n",
    "                           surface=surface, blur_pos='ratio', depth_min=depth_op[0], depth_max=depth_op[1])\n",
    "# as no smoothing is applied, \"vertical\" eqauls \"horizontal\" equals \"square\" for kernel size (1,1)\n",
    "dO2_av = dO2_optode['vertical']"
   ]
  },
  {
   "cell_type": "code",
   "execution_count": 60,
   "metadata": {},
   "outputs": [
    {
     "data": {
      "text/html": [
       "<div>\n",
       "<style scoped>\n",
       "    .dataframe tbody tr th:only-of-type {\n",
       "        vertical-align: middle;\n",
       "    }\n",
       "\n",
       "    .dataframe tbody tr th {\n",
       "        vertical-align: top;\n",
       "    }\n",
       "\n",
       "    .dataframe thead th {\n",
       "        text-align: right;\n",
       "    }\n",
       "</style>\n",
       "<table border=\"1\" class=\"dataframe\">\n",
       "  <thead>\n",
       "    <tr style=\"text-align: right;\">\n",
       "      <th></th>\n",
       "      <th>0.000000</th>\n",
       "      <th>0.035686</th>\n",
       "      <th>0.071372</th>\n",
       "      <th>0.107058</th>\n",
       "      <th>0.142744</th>\n",
       "      <th>0.178430</th>\n",
       "      <th>0.214116</th>\n",
       "      <th>0.249802</th>\n",
       "      <th>0.285488</th>\n",
       "      <th>0.321174</th>\n",
       "      <th>...</th>\n",
       "      <th>19.663014</th>\n",
       "      <th>19.698700</th>\n",
       "      <th>19.734386</th>\n",
       "      <th>19.770072</th>\n",
       "      <th>19.805758</th>\n",
       "      <th>19.841444</th>\n",
       "      <th>19.877131</th>\n",
       "      <th>19.912817</th>\n",
       "      <th>19.948503</th>\n",
       "      <th>19.984189</th>\n",
       "    </tr>\n",
       "  </thead>\n",
       "  <tbody>\n",
       "    <tr>\n",
       "      <th>-1.480464</th>\n",
       "      <td>94.707012</td>\n",
       "      <td>102.040317</td>\n",
       "      <td>78.641021</td>\n",
       "      <td>109.760446</td>\n",
       "      <td>73.535756</td>\n",
       "      <td>79.899726</td>\n",
       "      <td>90.118453</td>\n",
       "      <td>86.395306</td>\n",
       "      <td>85.923763</td>\n",
       "      <td>78.957696</td>\n",
       "      <td>...</td>\n",
       "      <td>89.562774</td>\n",
       "      <td>69.608157</td>\n",
       "      <td>77.742761</td>\n",
       "      <td>77.058256</td>\n",
       "      <td>86.595742</td>\n",
       "      <td>92.276039</td>\n",
       "      <td>88.811197</td>\n",
       "      <td>75.827904</td>\n",
       "      <td>88.973849</td>\n",
       "      <td>91.636316</td>\n",
       "    </tr>\n",
       "    <tr>\n",
       "      <th>-1.444778</th>\n",
       "      <td>80.289263</td>\n",
       "      <td>90.770068</td>\n",
       "      <td>99.858939</td>\n",
       "      <td>106.019282</td>\n",
       "      <td>89.006502</td>\n",
       "      <td>79.173702</td>\n",
       "      <td>92.136085</td>\n",
       "      <td>94.627441</td>\n",
       "      <td>95.236847</td>\n",
       "      <td>89.752932</td>\n",
       "      <td>...</td>\n",
       "      <td>76.254703</td>\n",
       "      <td>71.576086</td>\n",
       "      <td>83.719706</td>\n",
       "      <td>78.946650</td>\n",
       "      <td>97.014046</td>\n",
       "      <td>94.652597</td>\n",
       "      <td>101.349149</td>\n",
       "      <td>79.225407</td>\n",
       "      <td>97.679229</td>\n",
       "      <td>82.518598</td>\n",
       "    </tr>\n",
       "    <tr>\n",
       "      <th>-1.409091</th>\n",
       "      <td>91.024389</td>\n",
       "      <td>83.483206</td>\n",
       "      <td>92.335533</td>\n",
       "      <td>84.790061</td>\n",
       "      <td>88.862725</td>\n",
       "      <td>82.480440</td>\n",
       "      <td>90.000043</td>\n",
       "      <td>95.397937</td>\n",
       "      <td>81.868759</td>\n",
       "      <td>76.699333</td>\n",
       "      <td>...</td>\n",
       "      <td>94.505311</td>\n",
       "      <td>93.600390</td>\n",
       "      <td>80.634304</td>\n",
       "      <td>91.419083</td>\n",
       "      <td>94.157148</td>\n",
       "      <td>89.550552</td>\n",
       "      <td>94.003060</td>\n",
       "      <td>78.853040</td>\n",
       "      <td>89.988954</td>\n",
       "      <td>76.798021</td>\n",
       "    </tr>\n",
       "    <tr>\n",
       "      <th>-1.373405</th>\n",
       "      <td>79.445171</td>\n",
       "      <td>88.644544</td>\n",
       "      <td>107.550402</td>\n",
       "      <td>81.519090</td>\n",
       "      <td>94.662008</td>\n",
       "      <td>96.737270</td>\n",
       "      <td>82.310607</td>\n",
       "      <td>82.788777</td>\n",
       "      <td>86.469666</td>\n",
       "      <td>85.798378</td>\n",
       "      <td>...</td>\n",
       "      <td>85.105973</td>\n",
       "      <td>83.996412</td>\n",
       "      <td>101.425490</td>\n",
       "      <td>73.620249</td>\n",
       "      <td>79.537140</td>\n",
       "      <td>86.974718</td>\n",
       "      <td>94.513496</td>\n",
       "      <td>97.765754</td>\n",
       "      <td>76.385487</td>\n",
       "      <td>76.820566</td>\n",
       "    </tr>\n",
       "    <tr>\n",
       "      <th>-1.337719</th>\n",
       "      <td>81.853342</td>\n",
       "      <td>81.959790</td>\n",
       "      <td>84.059679</td>\n",
       "      <td>84.133692</td>\n",
       "      <td>83.642581</td>\n",
       "      <td>73.322107</td>\n",
       "      <td>102.322479</td>\n",
       "      <td>83.425353</td>\n",
       "      <td>86.709541</td>\n",
       "      <td>87.995074</td>\n",
       "      <td>...</td>\n",
       "      <td>72.853787</td>\n",
       "      <td>90.100340</td>\n",
       "      <td>88.422692</td>\n",
       "      <td>75.006813</td>\n",
       "      <td>84.101891</td>\n",
       "      <td>86.857555</td>\n",
       "      <td>80.680914</td>\n",
       "      <td>89.747453</td>\n",
       "      <td>80.770347</td>\n",
       "      <td>72.487104</td>\n",
       "    </tr>\n",
       "    <tr>\n",
       "      <th>...</th>\n",
       "      <td>...</td>\n",
       "      <td>...</td>\n",
       "      <td>...</td>\n",
       "      <td>...</td>\n",
       "      <td>...</td>\n",
       "      <td>...</td>\n",
       "      <td>...</td>\n",
       "      <td>...</td>\n",
       "      <td>...</td>\n",
       "      <td>...</td>\n",
       "      <td>...</td>\n",
       "      <td>...</td>\n",
       "      <td>...</td>\n",
       "      <td>...</td>\n",
       "      <td>...</td>\n",
       "      <td>...</td>\n",
       "      <td>...</td>\n",
       "      <td>...</td>\n",
       "      <td>...</td>\n",
       "      <td>...</td>\n",
       "      <td>...</td>\n",
       "    </tr>\n",
       "    <tr>\n",
       "      <th>0.839130</th>\n",
       "      <td>1.336895</td>\n",
       "      <td>-2.230803</td>\n",
       "      <td>-2.605292</td>\n",
       "      <td>2.248179</td>\n",
       "      <td>-1.749196</td>\n",
       "      <td>-2.137609</td>\n",
       "      <td>-2.447654</td>\n",
       "      <td>-0.132375</td>\n",
       "      <td>-1.587720</td>\n",
       "      <td>-0.450701</td>\n",
       "      <td>...</td>\n",
       "      <td>-1.217033</td>\n",
       "      <td>-0.666225</td>\n",
       "      <td>-0.455462</td>\n",
       "      <td>2.116820</td>\n",
       "      <td>1.742889</td>\n",
       "      <td>-0.172223</td>\n",
       "      <td>-1.364208</td>\n",
       "      <td>-0.505624</td>\n",
       "      <td>1.500612</td>\n",
       "      <td>-1.157526</td>\n",
       "    </tr>\n",
       "    <tr>\n",
       "      <th>0.874816</th>\n",
       "      <td>0.571206</td>\n",
       "      <td>-1.784507</td>\n",
       "      <td>-1.516088</td>\n",
       "      <td>-1.498679</td>\n",
       "      <td>-0.079172</td>\n",
       "      <td>-2.419714</td>\n",
       "      <td>0.374254</td>\n",
       "      <td>-3.282860</td>\n",
       "      <td>0.179761</td>\n",
       "      <td>-2.931869</td>\n",
       "      <td>...</td>\n",
       "      <td>1.042887</td>\n",
       "      <td>-0.641173</td>\n",
       "      <td>-0.320945</td>\n",
       "      <td>0.499115</td>\n",
       "      <td>1.386234</td>\n",
       "      <td>-2.090485</td>\n",
       "      <td>-1.267280</td>\n",
       "      <td>-1.747310</td>\n",
       "      <td>0.640243</td>\n",
       "      <td>-0.079711</td>\n",
       "    </tr>\n",
       "    <tr>\n",
       "      <th>0.910502</th>\n",
       "      <td>3.753327</td>\n",
       "      <td>-0.132641</td>\n",
       "      <td>2.644410</td>\n",
       "      <td>-2.230803</td>\n",
       "      <td>-0.595828</td>\n",
       "      <td>-0.853254</td>\n",
       "      <td>-3.347875</td>\n",
       "      <td>-1.382407</td>\n",
       "      <td>1.893864</td>\n",
       "      <td>4.114935</td>\n",
       "      <td>...</td>\n",
       "      <td>1.437801</td>\n",
       "      <td>1.119078</td>\n",
       "      <td>-1.944211</td>\n",
       "      <td>0.268122</td>\n",
       "      <td>-1.247613</td>\n",
       "      <td>3.216222</td>\n",
       "      <td>2.326098</td>\n",
       "      <td>2.842849</td>\n",
       "      <td>-1.031964</td>\n",
       "      <td>-1.748455</td>\n",
       "    </tr>\n",
       "    <tr>\n",
       "      <th>0.946188</th>\n",
       "      <td>-3.218953</td>\n",
       "      <td>-0.859625</td>\n",
       "      <td>-2.931869</td>\n",
       "      <td>1.151186</td>\n",
       "      <td>-1.200780</td>\n",
       "      <td>2.327849</td>\n",
       "      <td>0.139257</td>\n",
       "      <td>1.385405</td>\n",
       "      <td>-1.419156</td>\n",
       "      <td>-1.260727</td>\n",
       "      <td>...</td>\n",
       "      <td>1.216883</td>\n",
       "      <td>4.239003</td>\n",
       "      <td>-0.505624</td>\n",
       "      <td>0.219790</td>\n",
       "      <td>1.471347</td>\n",
       "      <td>-0.127811</td>\n",
       "      <td>-1.041700</td>\n",
       "      <td>1.641549</td>\n",
       "      <td>1.390044</td>\n",
       "      <td>0.383708</td>\n",
       "    </tr>\n",
       "    <tr>\n",
       "      <th>0.981874</th>\n",
       "      <td>3.222903</td>\n",
       "      <td>-1.015096</td>\n",
       "      <td>-0.349788</td>\n",
       "      <td>0.111473</td>\n",
       "      <td>0.633374</td>\n",
       "      <td>-0.065386</td>\n",
       "      <td>0.643536</td>\n",
       "      <td>-1.077973</td>\n",
       "      <td>-4.544699</td>\n",
       "      <td>-2.016366</td>\n",
       "      <td>...</td>\n",
       "      <td>0.500814</td>\n",
       "      <td>1.299670</td>\n",
       "      <td>1.371209</td>\n",
       "      <td>-0.472381</td>\n",
       "      <td>-0.330538</td>\n",
       "      <td>-1.408449</td>\n",
       "      <td>-0.721058</td>\n",
       "      <td>-0.044959</td>\n",
       "      <td>-0.950040</td>\n",
       "      <td>0.490245</td>\n",
       "    </tr>\n",
       "  </tbody>\n",
       "</table>\n",
       "<p>70 rows × 561 columns</p>\n",
       "</div>"
      ],
      "text/plain": [
       "           0.000000    0.035686    0.071372    0.107058   0.142744   \\\n",
       "-1.480464  94.707012  102.040317   78.641021  109.760446  73.535756   \n",
       "-1.444778  80.289263   90.770068   99.858939  106.019282  89.006502   \n",
       "-1.409091  91.024389   83.483206   92.335533   84.790061  88.862725   \n",
       "-1.373405  79.445171   88.644544  107.550402   81.519090  94.662008   \n",
       "-1.337719  81.853342   81.959790   84.059679   84.133692  83.642581   \n",
       "...              ...         ...         ...         ...        ...   \n",
       " 0.839130   1.336895   -2.230803   -2.605292    2.248179  -1.749196   \n",
       " 0.874816   0.571206   -1.784507   -1.516088   -1.498679  -0.079172   \n",
       " 0.910502   3.753327   -0.132641    2.644410   -2.230803  -0.595828   \n",
       " 0.946188  -3.218953   -0.859625   -2.931869    1.151186  -1.200780   \n",
       " 0.981874   3.222903   -1.015096   -0.349788    0.111473   0.633374   \n",
       "\n",
       "           0.178430    0.214116   0.249802   0.285488   0.321174   ...  \\\n",
       "-1.480464  79.899726   90.118453  86.395306  85.923763  78.957696  ...   \n",
       "-1.444778  79.173702   92.136085  94.627441  95.236847  89.752932  ...   \n",
       "-1.409091  82.480440   90.000043  95.397937  81.868759  76.699333  ...   \n",
       "-1.373405  96.737270   82.310607  82.788777  86.469666  85.798378  ...   \n",
       "-1.337719  73.322107  102.322479  83.425353  86.709541  87.995074  ...   \n",
       "...              ...         ...        ...        ...        ...  ...   \n",
       " 0.839130  -2.137609   -2.447654  -0.132375  -1.587720  -0.450701  ...   \n",
       " 0.874816  -2.419714    0.374254  -3.282860   0.179761  -2.931869  ...   \n",
       " 0.910502  -0.853254   -3.347875  -1.382407   1.893864   4.114935  ...   \n",
       " 0.946188   2.327849    0.139257   1.385405  -1.419156  -1.260727  ...   \n",
       " 0.981874  -0.065386    0.643536  -1.077973  -4.544699  -2.016366  ...   \n",
       "\n",
       "           19.663014  19.698700   19.734386  19.770072  19.805758  19.841444  \\\n",
       "-1.480464  89.562774  69.608157   77.742761  77.058256  86.595742  92.276039   \n",
       "-1.444778  76.254703  71.576086   83.719706  78.946650  97.014046  94.652597   \n",
       "-1.409091  94.505311  93.600390   80.634304  91.419083  94.157148  89.550552   \n",
       "-1.373405  85.105973  83.996412  101.425490  73.620249  79.537140  86.974718   \n",
       "-1.337719  72.853787  90.100340   88.422692  75.006813  84.101891  86.857555   \n",
       "...              ...        ...         ...        ...        ...        ...   \n",
       " 0.839130  -1.217033  -0.666225   -0.455462   2.116820   1.742889  -0.172223   \n",
       " 0.874816   1.042887  -0.641173   -0.320945   0.499115   1.386234  -2.090485   \n",
       " 0.910502   1.437801   1.119078   -1.944211   0.268122  -1.247613   3.216222   \n",
       " 0.946188   1.216883   4.239003   -0.505624   0.219790   1.471347  -0.127811   \n",
       " 0.981874   0.500814   1.299670    1.371209  -0.472381  -0.330538  -1.408449   \n",
       "\n",
       "            19.877131  19.912817  19.948503  19.984189  \n",
       "-1.480464   88.811197  75.827904  88.973849  91.636316  \n",
       "-1.444778  101.349149  79.225407  97.679229  82.518598  \n",
       "-1.409091   94.003060  78.853040  89.988954  76.798021  \n",
       "-1.373405   94.513496  97.765754  76.385487  76.820566  \n",
       "-1.337719   80.680914  89.747453  80.770347  72.487104  \n",
       "...               ...        ...        ...        ...  \n",
       " 0.839130   -1.364208  -0.505624   1.500612  -1.157526  \n",
       " 0.874816   -1.267280  -1.747310   0.640243  -0.079711  \n",
       " 0.910502    2.326098   2.842849  -1.031964  -1.748455  \n",
       " 0.946188   -1.041700   1.641549   1.390044   0.383708  \n",
       " 0.981874   -0.721058  -0.044959  -0.950040   0.490245  \n",
       "\n",
       "[70 rows x 561 columns]"
      ]
     },
     "execution_count": 60,
     "metadata": {},
     "output_type": "execute_result"
    }
   ],
   "source": [
    "dO2_av"
   ]
  },
  {
   "cell_type": "markdown",
   "metadata": {},
   "source": [
    "### 3. Plot optode as 3D or 2D"
   ]
  },
  {
   "cell_type": "code",
   "execution_count": 43,
   "metadata": {},
   "outputs": [],
   "source": [
    "# 3D visualization\n",
    "sns.set_style('darkgrid')\n",
    "fig3D, ax3D = plot_wholeImage3D(dO2_mean=dO2_av, unit='mm', pad=2)\n",
    "plt.show()   "
   ]
  },
  {
   "cell_type": "code",
   "execution_count": 74,
   "metadata": {},
   "outputs": [],
   "source": [
    "# 2D projection\n",
    "depth_range = (-12.5, -10.5)\n",
    "width_range = (2., 20.)\n",
    "\n",
    "sns.set_style('ticks')\n",
    "fig2D, ax2D = plot_optode2D(o=inp.split(',')[0], s=inp.split(',')[1].strip(), px2mm=px2mm, \n",
    "                            surface=surface, dO2_av=dO2_av, depth_range=depth_range,\n",
    "                            width_range=width_range, vmin=0, vmax=100)\n",
    "plt.show() "
   ]
  },
  {
   "cell_type": "code",
   "execution_count": null,
   "metadata": {},
   "outputs": [],
   "source": []
  },
  {
   "cell_type": "markdown",
   "metadata": {},
   "source": [
    "### 4. Save results\n",
    "save figures"
   ]
  },
  {
   "cell_type": "code",
   "execution_count": 51,
   "metadata": {},
   "outputs": [],
   "source": [
    "now = datetime.datetime.now() \n",
    "name3D = save_dir_plots + '/' + now.strftime(\"%Y%m%d-%H%M%S\") + '_optode3D_' + '-'.join([i.strip() for i in inp.split(',')])\n",
    "name2D = save_dir_plots + '/' + now.strftime(\"%Y%m%d-%H%M%S\") + '_optode2D_' + '-'.join([i.strip() for i in inp.split(',')])\n",
    "for i in type_plot:\n",
    "    fig3D.savefig(name3D + '.{}'.format(i), dpi=dpi) \n",
    "    fig2D.savefig(name2D + '.{}'.format(i), dpi=dpi) "
   ]
  },
  {
   "cell_type": "markdown",
   "metadata": {},
   "source": [
    "save determined O2"
   ]
  },
  {
   "cell_type": "code",
   "execution_count": 52,
   "metadata": {},
   "outputs": [
    {
     "name": "stdout",
     "output_type": "stream",
     "text": [
      "saving done\n"
     ]
    }
   ],
   "source": [
    "eval_time = now.strftime(\"%Y%m%d-%H%M\")\n",
    "save_name = save_dir_res + '/' + eval_time + '_O2calc_run' + run + '.hdf5'\n",
    "save_o2results(save_name=save_name, inp=inp, file_meas=file_meas, RoI_op=RoI_op,\n",
    "               px2mm=px2mm, surface=surface, dO2_av=dO2_av, dO2_SD=dO2_SD)"
   ]
  },
  {
   "cell_type": "code",
   "execution_count": null,
   "metadata": {},
   "outputs": [],
   "source": []
  }
 ],
 "metadata": {
  "kernelspec": {
   "display_name": "Python 3",
   "language": "python",
   "name": "python3"
  },
  "language_info": {
   "codemirror_mode": {
    "name": "ipython",
    "version": 3
   },
   "file_extension": ".py",
   "mimetype": "text/x-python",
   "name": "python",
   "nbconvert_exporter": "python",
   "pygments_lexer": "ipython3",
   "version": "3.8.8"
  }
 },
 "nbformat": 4,
 "nbformat_minor": 4
}
