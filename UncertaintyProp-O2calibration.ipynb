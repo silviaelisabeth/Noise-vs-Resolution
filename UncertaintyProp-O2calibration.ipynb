{
 "cells": [
  {
   "cell_type": "markdown",
   "metadata": {},
   "source": [
    "#### import functions"
   ]
  },
  {
   "cell_type": "code",
   "execution_count": 18,
   "metadata": {
    "execution": {
     "iopub.execute_input": "2021-01-05T07:42:05.173058Z",
     "iopub.status.busy": "2021-01-05T07:42:05.173058Z",
     "iopub.status.idle": "2021-01-05T07:42:05.201528Z",
     "shell.execute_reply": "2021-01-05T07:42:05.201528Z",
     "shell.execute_reply.started": "2021-01-05T07:42:05.173058Z"
    }
   },
   "outputs": [
    {
     "name": "stdout",
     "output_type": "stream",
     "text": [
      "Using matplotlib backend: MacOSX\n"
     ]
    }
   ],
   "source": [
    "%run functions_NoiseStudy.py\n",
    "%matplotlib \n",
    "import datetime\n",
    "\n",
    "# global variables for plot savings\n",
    "type_plot = ['png', 'svg']\n",
    "dpi = 300"
   ]
  },
  {
   "cell_type": "raw",
   "metadata": {},
   "source": [
    "# Notebook Description\n",
    "Estimating the propagation of measurement uncertainities according to Taulor J.R. unsing the uncertainty package developed by E.O. Lebigot.[1] For non-linear uncertainty propagation during the fit process, we used the Monte Carlo Error Propagation developed by A.Lee.[2] \n",
    "All parts requiring user input are marked as [USER INPUT]\n",
    "\n",
    "# -------------------------------\n",
    "# Table of Content\n",
    "0. Directory for data storage\n",
    "1. Load data\n",
    "2. Plot ratiometric intensity as a start\n",
    "3. Uncertainty propagation and further calibraiton\n",
    "4. Plot SV-Fit including uncertainty propagation\n",
    "5. Saving Plots\n",
    "6. Save calibration results\n",
    "\n",
    "# -------------------------------\n",
    "# References\n",
    "[1] Lebigot, E.O. Uncertainties: a Python package for calculations with uncertainties,\n",
    "    http://pythonhosted.org/uncertainties/.\n",
    "[2] Lee, A. mcerp Python Packag, https://github.com/tisimst/mcerp."
   ]
  },
  {
   "cell_type": "code",
   "execution_count": null,
   "metadata": {},
   "outputs": [],
   "source": []
  },
  {
   "cell_type": "markdown",
   "metadata": {},
   "source": [
    "### 0. Directory for data storage"
   ]
  },
  {
   "cell_type": "code",
   "execution_count": 39,
   "metadata": {
    "execution": {
     "iopub.execute_input": "2021-01-05T07:42:06.364894Z",
     "iopub.status.busy": "2021-01-05T07:42:06.364894Z",
     "iopub.status.idle": "2021-01-05T07:42:06.373918Z",
     "shell.execute_reply": "2021-01-05T07:42:06.373918Z",
     "shell.execute_reply.started": "2021-01-05T07:42:06.364894Z"
    }
   },
   "outputs": [],
   "source": [
    "# actual evaluation time\n",
    "now = datetime.datetime.now()\n",
    "today = now.strftime(\"%Y%m%d\")\n",
    "\n",
    "# output folder\n",
    "save_dir_plots = 'plots/' + today + '_calibration'\n",
    "if not os.path.exists(save_dir_plots):\n",
    "    os.makedirs(save_dir_plots)\n",
    "    \n",
    "save_dir_res = 'Results/' + today + '_calibration'\n",
    "if not os.path.exists(save_dir_res):\n",
    "    os.makedirs(save_dir_res)"
   ]
  },
  {
   "cell_type": "code",
   "execution_count": null,
   "metadata": {},
   "outputs": [],
   "source": []
  },
  {
   "cell_type": "markdown",
   "metadata": {},
   "source": [
    "### 1. Load data"
   ]
  },
  {
   "cell_type": "code",
   "execution_count": 20,
   "metadata": {},
   "outputs": [],
   "source": [
    "# [USER INPUT]\n",
    "# directory to stored images\n",
    "path = '/Volumes/HIS-CAMEL/04measurementData/20201127_Noise-vs-resolution-paper/Klaus_Optode_noise_study_26-11-2020/calibration/'"
   ]
  },
  {
   "cell_type": "code",
   "execution_count": 21,
   "metadata": {},
   "outputs": [],
   "source": [
    "# [USER INPUT]\n",
    "# Splitting the image into two for a pre-selection of the two optodes. The area is defined \n",
    "# as rectangle going anti-clockwise starting from top left corner. \n",
    "crop_op = [[(700, 200), (700, 1300), (1300, 1300), (1300, 200)],   # optode1\n",
    "           [(1500, 150), (1500, 1000), (2100, 1000), (2100, 150)]] # optode2\n",
    "\n",
    "# Region of Interests selected within the optode\n",
    "RoI1_av = [[(220, 70), (220, 900), (550, 900), (550, 70)]]\n",
    "RoI2_av = [[(200, 100), (200, 844), (568, 844), (568, 100)]]"
   ]
  },
  {
   "cell_type": "code",
   "execution_count": 22,
   "metadata": {},
   "outputs": [
    {
     "name": "stderr",
     "output_type": "stream",
     "text": [
      "/Users/au652733/Python/Project_NoiseResolution/functions_NoiseStudy.py:1424: RuntimeWarning: divide by zero encountered in true_divide\n",
      "  dratio[c] = [dch_num[s][str(c) + '%'][n] / dch_denom[s][str(c) + '%'][n]\n",
      "/Users/au652733/Python/Project_NoiseResolution/functions_NoiseStudy.py:1424: RuntimeWarning: invalid value encountered in true_divide\n",
      "  dratio[c] = [dch_num[s][str(c) + '%'][n] / dch_denom[s][str(c) + '%'][n]\n"
     ]
    }
   ],
   "source": [
    "# initial data analysis - crop image to RoI \n",
    "dfoptode, para = ratiometric_intensity(path=path, crop_op=crop_op, RoI1=RoI1_av, RoI2=RoI2_av)\n",
    "\n",
    "uncer_op1, uncer_op2 = uncertainty(dfop1=dfoptode[0], dfop2=dfoptode[1], para=para, \n",
    "                                   RoI1=RoI1_av, RoI2=RoI2_av, conc=para['concentration'])"
   ]
  },
  {
   "cell_type": "code",
   "execution_count": null,
   "metadata": {},
   "outputs": [],
   "source": []
  },
  {
   "cell_type": "markdown",
   "metadata": {},
   "source": [
    "### 2. Plot ratiometric intensity as a start"
   ]
  },
  {
   "cell_type": "code",
   "execution_count": 23,
   "metadata": {},
   "outputs": [
    {
     "name": "stdout",
     "output_type": "stream",
     "text": [
      "Which uncertainty should be studied / plotted. SD or SEM? SD\n"
     ]
    }
   ],
   "source": [
    "# [USER INPUT] \n",
    "error = input('Which uncertainty should be studied / plotted. SD or SEM? ') # 'SD', 'SEM'"
   ]
  },
  {
   "cell_type": "code",
   "execution_count": 24,
   "metadata": {},
   "outputs": [],
   "source": [
    "# starting point - all optodes and settings\n",
    "# preparation for plotting\n",
    "df_error = prep_plotting_avSD(error=error, dfoptode=dfoptode, uncer_op1=uncer_op1, \n",
    "                              uncer_op2=uncer_op2)\n",
    "# ---------------------------------\n",
    "# plotting\n",
    "fig_sig, ax_sig = plot_optode_avSD_v1(conc=para['concentration'], dfoptode=dfoptode, fs=fs,\n",
    "                                      col=col, error=df_error, RoI_op=crop_op, mark=mark)"
   ]
  },
  {
   "cell_type": "code",
   "execution_count": 25,
   "metadata": {},
   "outputs": [
    {
     "name": "stdout",
     "output_type": "stream",
     "text": [
      "Which optode and setting shall be plotted? optode1, set2\n"
     ]
    }
   ],
   "source": [
    "# [USER INPUT] \n",
    "inp = input('Which optode and setting shall be plotted? ') # 'optode 1', 'set2'"
   ]
  },
  {
   "cell_type": "code",
   "execution_count": 26,
   "metadata": {},
   "outputs": [],
   "source": [
    "# one example plot\n",
    "o, s = inp.split(',')\n",
    "\n",
    "# ---------------------------------\n",
    "# preparation for plotting\n",
    "dfop, interpol, dferr = prepPlot_optodeSet(o=o.strip(), s=s.strip(), error=error, \n",
    "                                           dfoptode=dfoptode, uncer_op1=uncer_op1, \n",
    "                                           uncer_op2=uncer_op2)\n",
    "xinter = np.linspace(0, 100, num=int(100/0.1+1))\n",
    "\n",
    "# ---------------------------------\n",
    "# plotting\n",
    "fig_sigEx, ax_sigEx = plot_optode_set(o=o.strip(), s=s.strip(), conc=para['concentration'], \n",
    "                                    xinter=xinter, dfop=dfop, interpol=interpol, fs=fs,\n",
    "                                    optode_sem=dferr)"
   ]
  },
  {
   "cell_type": "code",
   "execution_count": null,
   "metadata": {},
   "outputs": [],
   "source": []
  },
  {
   "cell_type": "markdown",
   "metadata": {},
   "source": [
    "### 3. Uncertainty propagation and further calibraiton"
   ]
  },
  {
   "cell_type": "code",
   "execution_count": 27,
   "metadata": {},
   "outputs": [],
   "source": [
    "# linear uncertainty propagation to normalize the ratiometric intensity\n",
    "[optode_norm, optode1_norm_SEM, optode2_norm_SEM, \n",
    " fnorm_op1, fnorm_op2] = lin_propagation(dfop1=dfoptode[0], dfop2=dfoptode[1], RoI1=RoI1_av, \n",
    "                                         RoI2=RoI2_av, n1=uncer_op1['sample size'], \n",
    "                                         n2=uncer_op2['sample size'], \n",
    "                                         conc=para['concentration'])"
   ]
  },
  {
   "cell_type": "code",
   "execution_count": 28,
   "metadata": {},
   "outputs": [],
   "source": [
    "# Monte Carlo uncertainty propagation for non-linear uncertainty propagation of the SV Fit\n",
    "if RoI1_av:\n",
    "    [dop1_value, dop1_param, \n",
    "     op1_normSEM] = mc_propagation(conc=para['concentration'], dfop=dfoptode[0], RoI=RoI1_av,\n",
    "                                   optode_norm=optode_norm[0], uncer_op=uncer_op1,\n",
    "                                   optode_norm_SEM=optode1_norm_SEM)\n",
    "    f1inter_mc = dict(map(lambda s: (s, interpolation_SDmc(df=dop1_value, s=s)),\n",
    "                          dop1_value.keys()))\n",
    "    \n",
    "if RoI2_av:\n",
    "    [dop2_value, dop2_param, \n",
    "     op2_normSEM] = mc_propagation(conc=para['concentration'], RoI=RoI2_av, dfop=dfoptode[1], \n",
    "                                   optode_norm=optode_norm[1], uncer_op=uncer_op2,\n",
    "                                   optode_norm_SEM=optode2_norm_SEM)\n",
    "    f2inter_mc = dict(map(lambda s: (s, interpolation_SDmc(df=dop2_value, s=s)), \n",
    "                          dop2_value.keys()))"
   ]
  },
  {
   "cell_type": "code",
   "execution_count": null,
   "metadata": {},
   "outputs": [],
   "source": []
  },
  {
   "cell_type": "markdown",
   "metadata": {},
   "source": [
    "### 4. Plot SV-Fit including uncertainty propagation"
   ]
  },
  {
   "cell_type": "code",
   "execution_count": 29,
   "metadata": {},
   "outputs": [],
   "source": [
    "# plotting the SV Fit including the uncertainty propagation\n",
    "# ---------------------------------\n",
    "# preparation for plotting\n",
    "derror = prepPlot_SVerrprop(error=error, dop1_value=dop1_value, dop2_value=dop2_value, \n",
    "                            op1_normSEM=op1_normSEM, op2_normSEM=op2_normSEM)\n",
    "# ------------------------------\n",
    "# plotting\n",
    "fig_sv, ax_sv = plot_SVerrorprop(dop1_value=dop1_value, dop1_param=dop1_param, fs=fs,\n",
    "                           f1inter_mc=f1inter_mc, RoI1_av=RoI1_av, RoI2_av=RoI2_av, \n",
    "                           dop2_value=dop2_value, dop2_param=dop2_param, derror=derror, \n",
    "                           f2inter_mc=f2inter_mc)"
   ]
  },
  {
   "cell_type": "code",
   "execution_count": 30,
   "metadata": {},
   "outputs": [
    {
     "name": "stdout",
     "output_type": "stream",
     "text": [
      "Which optode and setting shall be plotted? optode1, set2\n"
     ]
    }
   ],
   "source": [
    "# [USER INPUT] \n",
    "inp = input('Which optode and setting shall be plotted? ') # 'optode 1', 'set2'"
   ]
  },
  {
   "cell_type": "code",
   "execution_count": 31,
   "metadata": {},
   "outputs": [],
   "source": [
    "# one example plot\n",
    "o, s = inp.split(',')\n",
    "\n",
    "# ------------------------------\n",
    "# preparation for plotting\n",
    "[dfop, dop_para, df_SEM, dferr, \n",
    " finter_mc] = prepPlot_SVerrprop_ex(o=o.strip(), s=s.strip(), error=error, \n",
    "                                    dop1_value=dop1_value, dop1_param=dop1_param,\n",
    "                                    op1_normSEM=op1_normSEM, f1inter_mc=f1inter_mc, \n",
    "                                    dop2_value=dop2_value, dop2_param=dop2_param, \n",
    "                                    op2_normSEM=op2_normSEM, f2inter_mc=f2inter_mc)\n",
    "en = int(s.split('t')[-1])\n",
    "\n",
    "# ------------------------------\n",
    "# plotting the example\n",
    "fig_svEX, ax_svEx = plot_optode_set_SV(o=o.strip(), s=s.strip(), en=en, dfop=dfop, fs=fs,\n",
    "                                       dop_para=dop_para, dferr=dferr, finter_mc=finter_mc)"
   ]
  },
  {
   "cell_type": "code",
   "execution_count": null,
   "metadata": {},
   "outputs": [],
   "source": []
  },
  {
   "cell_type": "markdown",
   "metadata": {
    "collapsed": true
   },
   "source": [
    "### 5. Saving Plots"
   ]
  },
  {
   "cell_type": "code",
   "execution_count": 87,
   "metadata": {
    "execution": {
     "iopub.execute_input": "2021-01-05T07:50:26.907942Z",
     "iopub.status.busy": "2021-01-05T07:50:26.907942Z",
     "iopub.status.idle": "2021-01-05T07:50:27.864485Z",
     "shell.execute_reply": "2021-01-05T07:50:27.864485Z",
     "shell.execute_reply.started": "2021-01-05T07:50:26.907942Z"
    }
   },
   "outputs": [],
   "source": [
    "now = datetime.datetime.now() \n",
    "name1 = save_dir_plots + '/' + now.strftime(\"%Y%m%d-%H%M%S\") + '_ratioIntensity-vs-conc'\n",
    "name2 = save_dir_plots + '/' + now.strftime(\"%Y%m%d-%H%M%S\") + '_SVpropagation-vs-conc'\n",
    "\n",
    "for i in type_plot:\n",
    "    fig_sig.savefig(name1 + '.{}'.format(i), dpi=dpi) \n",
    "    fig_sigEx.savefig(name1 + '_{}-{}.{}'.format(o.strip(), s.strip(), i), dpi=dpi) \n",
    "    fig_sv.savefig(name2 + '.{}'.format(i), dpi=dpi) \n",
    "    fig_svEX.savefig(name2 + '_{}-{}.{}'.format(o.strip(), s.strip(), i), dpi=dpi) "
   ]
  },
  {
   "cell_type": "code",
   "execution_count": 198,
   "metadata": {},
   "outputs": [],
   "source": []
  },
  {
   "cell_type": "markdown",
   "metadata": {},
   "source": [
    "### 6. Save calibration results"
   ]
  },
  {
   "cell_type": "code",
   "execution_count": 199,
   "metadata": {},
   "outputs": [
    {
     "name": "stdout",
     "output_type": "stream",
     "text": [
      "saving done\n"
     ]
    }
   ],
   "source": [
    "eval_time = now.strftime(\"%Y%m%d-%H%M\")\n",
    "save_name = save_dir_res + '/' + eval_time + '_calibration_{:.0f}RoI.hdf5'.format(nRoI)\n",
    "saving_res(save_name=save_name, conc=para['concentration'], RoI1_av=RoI1_av, \n",
    "           RoI2_av=RoI2_av, crop_op=crop_op, df_initial=dfoptode, df_norm=optode_norm, \n",
    "           dop1_param=dop1_param, dop2_param=dop2_param, dop1_value=dop1_value,\n",
    "           dop2_value=dop2_value, op1_normSEM=op1_normSEM, op2_normSEM=op2_normSEM)"
   ]
  },
  {
   "cell_type": "code",
   "execution_count": null,
   "metadata": {},
   "outputs": [],
   "source": []
  }
 ],
 "metadata": {
  "kernelspec": {
   "display_name": "Python 3",
   "language": "python",
   "name": "python3"
  },
  "language_info": {
   "codemirror_mode": {
    "name": "ipython",
    "version": 3
   },
   "file_extension": ".py",
   "mimetype": "text/x-python",
   "name": "python",
   "nbconvert_exporter": "python",
   "pygments_lexer": "ipython3",
   "version": "3.8.8"
  }
 },
 "nbformat": 4,
 "nbformat_minor": 4
}
