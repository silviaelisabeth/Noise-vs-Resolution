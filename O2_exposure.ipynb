{
 "cells": [
  {
   "cell_type": "code",
   "execution_count": 1,
   "metadata": {},
   "outputs": [
    {
     "name": "stdout",
     "output_type": "stream",
     "text": [
      "Using matplotlib backend: MacOSX\n"
     ]
    }
   ],
   "source": [
    "%run functions_NoiseStudy.py\n",
    "%matplotlib"
   ]
  },
  {
   "cell_type": "code",
   "execution_count": 2,
   "metadata": {},
   "outputs": [],
   "source": [
    "# output folder\n",
    "save_dir_plots = 'plots/20210329_measurement'\n",
    "if not os.path.exists(save_dir_plots):\n",
    "    os.makedirs(save_dir_plots)\n",
    "\n",
    "save_dir_res = 'Results/20210329_measurement'\n",
    "if not os.path.exists(save_dir_res):\n",
    "    os.makedirs(save_dir_res)\n",
    "    \n",
    "# actual evaluation time\n",
    "now = datetime.datetime.now()"
   ]
  },
  {
   "cell_type": "code",
   "execution_count": 3,
   "metadata": {},
   "outputs": [],
   "source": [
    "# load images and calculate red/green as it was done before\n",
    "dir_imgCal = '/Volumes/HIS-CAMEL/04measurementData/20201127_Noise-vs-resolution-paper/Klaus_Optode_noise_study_26-11-2020/calibration/'\n",
    "\n",
    "# ---------------------------------------------------------------\n",
    "# conversion factor px -> mm - using imageJ\n",
    "px = 840.6646\n",
    "dist_cm = 3. # cm\n",
    "px2mm = px / (dist_cm*10)\n",
    "baseline = (4.6, 3.1) # only one measurement (run2) number optode + number runs\n",
    "\n",
    "# ---------------------------------------------------------------\n",
    "# Image croped to optode area - same selection as in previous experiments\n",
    "RoI_op = [[(850, 424), (850, 777), (1211, 777), (1211, 777)]]#,\n",
    "          #[(1698, 450), (1698, 777), (2010, 777), (2010, 450)]]\n",
    "    \n",
    "# load data\n",
    "height = dict(map(lambda o: (o, RoI_op[o][1][1] - RoI_op[o][0][1]), range(len(RoI_op))))\n",
    "dict_red, dict_green, dconc = load_calibration_info(path=dir_imgCal, RoI1=RoI_op, height=height,\n",
    "                                                    server=False)    "
   ]
  },
  {
   "cell_type": "code",
   "execution_count": 4,
   "metadata": {},
   "outputs": [],
   "source": [
    "fs = 12\n",
    "col = dict({'g': '#26A66A', 'r': '#730A0A'})\n",
    "fig = plt.figure(figsize=(10,5))\n",
    "ax11 = fig.add_subplot(231)\n",
    "ax21 = fig.add_subplot(232, sharey=ax11)\n",
    "ax31 = fig.add_subplot(233, sharey=ax11)\n",
    "ax12 = fig.add_subplot(234)\n",
    "ax22 = fig.add_subplot(235, sharey=ax12)\n",
    "ax32 = fig.add_subplot(236, sharey=ax12)\n",
    "\n",
    "ax11.set_title('settings 1', fontsize=fs)\n",
    "ax21.set_title('settings 2', fontsize=fs)\n",
    "ax31.set_title('settings 3', fontsize=fs)\n",
    "h_r2 = ax11.hist(dict_red['set1']['0%'][0].ravel(), bins=256, histtype='bar', lw=0, \n",
    "                     color=col['r'])\n",
    "h_g2 = ax12.hist(dict_green['set1']['0%'][0].ravel(), bins=256, histtype='bar', lw=0, \n",
    "                     color=col['g'])\n",
    "\n",
    "h_r2 = ax21.hist(dict_red['set2']['0%'][0].ravel(), bins=256, histtype='bar', lw=0, \n",
    "                     color=col['r'])\n",
    "h_g2 = ax22.hist(dict_green['set2']['0%'][0].ravel(), bins=256, histtype='bar', lw=0,\n",
    "                     color=col['g'])\n",
    "\n",
    "h_r2 = ax31.hist(dict_red['set3']['0%'][0].ravel(), bins=256, histtype='bar', lw=0, \n",
    "                     color=col['r'])\n",
    "h_g2 = ax32.hist(dict_green['set3']['0%'][0].ravel(), bins=256, histtype='bar', lw=0, \n",
    "                     color=col['g'])\n",
    "\n",
    "fig.text(0.5, 0.025, 'Intensity value', va='center', ha='center', fontsize=fs)\n",
    "fig.text(0.015, 0.5, 'Counts', va='center', ha='center', rotation='vertical',\n",
    "         fontsize=fs)\n",
    "ax11.tick_params(axis='both', which='both', direction='out', labelsize=fs * 0.8)\n",
    "ax21.tick_params(axis='both', which='both', direction='out', labelsize=fs * 0.8)\n",
    "ax31.tick_params(axis='both', which='both', direction='out', labelsize=fs * 0.8)\n",
    "ax12.tick_params(axis='both', which='both', direction='out', labelsize=fs * 0.8)\n",
    "ax22.tick_params(axis='both', which='both', direction='out', labelsize=fs * 0.8)\n",
    "ax32.tick_params(axis='both', which='both', direction='out', labelsize=fs * 0.8)\n",
    "\n",
    "plt.subplots_adjust(bottom=0.12, right=0.95, top=0.9, left=0.075, hspace=0.15, wspace=0.15)\n",
    "plt.show()\n"
   ]
  },
  {
   "cell_type": "code",
   "execution_count": null,
   "metadata": {},
   "outputs": [],
   "source": []
  }
 ],
 "metadata": {
  "kernelspec": {
   "display_name": "Python 3",
   "language": "python",
   "name": "python3"
  },
  "language_info": {
   "codemirror_mode": {
    "name": "ipython",
    "version": 3
   },
   "file_extension": ".py",
   "mimetype": "text/x-python",
   "name": "python",
   "nbconvert_exporter": "python",
   "pygments_lexer": "ipython3",
   "version": "3.8.8"
  }
 },
 "nbformat": 4,
 "nbformat_minor": 4
}
