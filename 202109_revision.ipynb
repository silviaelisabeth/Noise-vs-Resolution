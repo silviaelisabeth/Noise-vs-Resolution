{
 "cells": [
  {
   "cell_type": "code",
   "execution_count": 7,
   "id": "8b8c0744",
   "metadata": {},
   "outputs": [
    {
     "name": "stdout",
     "output_type": "stream",
     "text": [
      "Using matplotlib backend: MacOSX\n"
     ]
    }
   ],
   "source": [
    "%run functions_NoiseStudy.py\n",
    "%matplotlib \n",
    "\n",
    "# global variables\n",
    "fs = 13\n",
    "type_plot = ['png', 'svg']"
   ]
  },
  {
   "cell_type": "raw",
   "id": "55c80c6d",
   "metadata": {},
   "source": [
    "Compare different smoothing filters AND differnt states when the respective smoothing filter is applied to the image:\n",
    "option-1: Gauss filter - along (a) horizontal axis (b) vertical axis, and (c) both axes\n",
    "        1.1 applied to the ratiometric intensity R = r/g\n",
    "        1.2 applied to the individual channels r and g\n",
    "        1.3. applied to the normalized intensity R0/R\n",
    "        \n",
    "option-2: Savitzky-Golay filter - along (a) horizontal axis (b) vertical axis, and \n",
    "          (c) both axes\n",
    "        2.1 applied to the ratiometric intensity R = r/g\n",
    "        2.2 applied to the individual channels r and g\n",
    "        2.3. applied to the normalized intensity R0/R"
   ]
  },
  {
   "cell_type": "code",
   "execution_count": 2,
   "id": "7fe825dd",
   "metadata": {},
   "outputs": [],
   "source": [
    "# actual evaluation time\n",
    "now = datetime.datetime.now()\n",
    "today = now.strftime(\"%Y%m%d\")\n",
    "\n",
    "# output folder\n",
    "save_dir_plots = 'plots/' + today + '_measurement'\n",
    "if not os.path.exists(save_dir_plots):\n",
    "    os.makedirs(save_dir_plots)\n",
    "    \n",
    "save_dir_res = 'Results/' + today + '_measurement'\n",
    "if not os.path.exists(save_dir_res):\n",
    "    os.makedirs(save_dir_res)"
   ]
  },
  {
   "cell_type": "code",
   "execution_count": 26,
   "id": "7638ad59",
   "metadata": {},
   "outputs": [
    {
     "name": "stdout",
     "output_type": "stream",
     "text": [
      "Image resolution: 1cm equals: 28.02px, i.e. 712dpi\n"
     ]
    }
   ],
   "source": [
    "# depth profile microsensor\n",
    "path_ = '/Volumes/HIS-CAMEL/04measurementData/20201127_Noise-vs-resolution-paper/'\n",
    "file_ms = path_ + 'Klaus_Optode_noise_study_26-11-2020/O2gradient_experiement/profiles.txt'\n",
    "\n",
    "# calibration data \n",
    "file_calib = 'Results/20210531_calibration/20210531-1455_calibration_1RoI.hdf5'\n",
    "\n",
    "# measurement data - images of the optode\n",
    "file_meas = path_ + 'Klaus_Optode_noise_study_26-11-2020/O2gradient_experiement/'\n",
    "\n",
    "# image cropping to the region of interest (RoI) that should be analyzed\n",
    "RoI_op = [[(730, 200), (730, 1250), (1290, 1250), (1290, 200)],   # optode1\n",
    "          [(1560, 200), (1560, 1250), (2100, 1250), (2100, 200)]] # optode2\n",
    "\n",
    "# Image resolution - determine conversion factor px -> mm \n",
    "# user definition using f.ex. imageJ\n",
    "px2mm, dpi = image_resolution(px=840.6646, dist_mm=30., inch=1.1811)\n",
    "print('Image resolution: 1cm equals: {:.2f}px, i.e. {:.0f}dpi'.format(px2mm, dpi))\n",
    "\n",
    "# ................................................................................\n",
    "# load depth profile(s) of the microsensir for validation of the depth profile\n",
    "dic_micro = read_microsensor(file_ms=file_ms, encoding='latin-1')\n",
    "\n",
    "# load measurement data and crop according to the RoI\n",
    "dint_red, dint_green, dint_ratio = splitImage(path=file_meas, RoI_op=RoI_op)"
   ]
  },
  {
   "cell_type": "code",
   "execution_count": 740,
   "id": "5f597f16",
   "metadata": {},
   "outputs": [],
   "source": [
    "# one example of one optode\n",
    "inp = 'optode1, set2'\n",
    "#input('Which optode and which setting shall be visualized? ') # optode1, set2"
   ]
  },
  {
   "cell_type": "markdown",
   "id": "8704ce17",
   "metadata": {},
   "source": [
    "### Image blur"
   ]
  },
  {
   "cell_type": "markdown",
   "id": "e90c54f6",
   "metadata": {},
   "source": [
    "##### Option-1: Gaussian blur"
   ]
  },
  {
   "cell_type": "code",
   "execution_count": 745,
   "id": "96ba1750",
   "metadata": {},
   "outputs": [],
   "source": [
    "# preparation lineprofile\n",
    "surface = (12.9, 12.) # optode 1, optode2\n",
    "depth_lp = (-4, 4) # depth for 2D line profile \n",
    "depth_op =  (-1.5, 1.) # depth for optode excerpt\n",
    "pos_lp = (7., 3.) # position of the depth profile within the optode\n",
    "ls_lw = [0] # line with of the drawn depth profile\n",
    "\n",
    "# kernel size\n",
    "kernel='gauss'\n",
    "ls_kernel = [(1,1), (3,3), (5, 5), (7,7), (9,9), (11, 11), (13,13), (15, 15), (17,17),\n",
    "             (19,19), (21, 21), (25, 25), (31, 31), (35, 35), (41, 41), (45, 45), (51 ,51),\n",
    "             (55, 55), (61, 61), (65, 65), (71, 71), (75, 75), (81, 81)]  \n",
    "\n",
    "# .................................................................\n",
    "# additional information for visualization\n",
    "arg = dict({'curve lw': 1.5, 'vmin':-5, 'vmax': 130, 'lw': 0.0, 'offset ms': 0.2,\n",
    "           'aspect': 4, 'cmap': plt.cm.inferno, 'vmin op': 0, 'vmax op': 100,\n",
    "           'figsize': (12, 5), 'fontsize': 11, 'marker': ['o', 'd', 'x', '.'],\n",
    "           'colors': ['slategrey', 'darkorange', 'forestgreen', 'k']})"
   ]
  },
  {
   "cell_type": "markdown",
   "id": "6d59b6d1",
   "metadata": {},
   "source": [
    "Option-1.1: Gauss filter applied to ratiometric intensity"
   ]
  },
  {
   "cell_type": "code",
   "execution_count": 746,
   "id": "6dd71818",
   "metadata": {},
   "outputs": [],
   "source": [
    "# determine O2 concentration for the depth profile (1D) for different image blurs\n",
    "dO2_Rlp = dict(map(lambda k: \n",
    "                  (k, O2_lineprofile_compare_v2(inp=inp, surface=surface, kernel=kernel, \n",
    "                                                kshape=k, lp=pos_lp, path_calib=file_calib,\n",
    "                                                dint_ch1=dint_ratio, px2mm=px2mm, \n",
    "                                                ls_lw=ls_lw, blur_pos='ratio')), \n",
    "                  ls_kernel))\n",
    "\n",
    "# determine O2 concentration for different image blurs for an excerpt of the optode in 2D\n",
    "dO2_Roptode = dict(map(lambda k: \n",
    "                      (k, O2blur_optode(kshape=k, inp=inp, path_calib=file_calib, \n",
    "                                        px2mm=px2mm, kernel=kernel, dint_ch1=dint_ratio, \n",
    "                                        surface=surface, depth_min=depth_op[0], \n",
    "                                        depth_max=depth_op[1], blur_pos='ratio')),\n",
    "                      ls_kernel))"
   ]
  },
  {
   "cell_type": "code",
   "execution_count": 747,
   "id": "df27e30e",
   "metadata": {},
   "outputs": [
    {
     "name": "stderr",
     "output_type": "stream",
     "text": [
      "/Users/au652733/Python/Project_NoiseResolution/functions_NoiseStudy.py:400: RuntimeWarning: More than 20 figures have been opened. Figures created through the pyplot interface (`matplotlib.pyplot.figure`) are retained until explicitly closed and may consume too much memory. (To control this warning, see the rcParam `figure.max_open_warning`).\n",
      "  fig_lp = plt.figure(figsize=(arg['figsize']), dpi=100)\n"
     ]
    }
   ],
   "source": [
    "# VISUALIZE image blur along line profile\n",
    "# prepare microsensor for joint visualization\n",
    "df_ms = prepMS_plot(index_lp=dO2_Rlp[ls_kernel[0]]['vertical'][ls_lw[0]].index,\n",
    "                    dic_micro=dic_micro, offset=arg['offset ms'])\n",
    "\n",
    "# plot lineprofile and excerpt of optode \n",
    "dimagesR = dict()\n",
    "for k in ls_kernel:\n",
    "    fig_lp = plotLP(kshape=k, dO2_lp=dO2_Rlp, dO2_optode=dO2_Roptode, df_ms=df_ms, arg=arg,\n",
    "                    header_ms=['Depth (mm)', 'Intensity'], depth_lp=depth_lp, \n",
    "                    s=inp.split(',')[1].strip(), depth=df_ms['Depth (mm)'])\n",
    "    dimagesR[k] = fig_lp"
   ]
  },
  {
   "cell_type": "code",
   "execution_count": 828,
   "id": "e91106af",
   "metadata": {},
   "outputs": [],
   "source": [
    "# O2 penetration depth\n",
    "# set O2 level used for calculating the penetration depth in %air\n",
    "threshold = 5.\n",
    "\n",
    "# O2 penetration depth\n",
    "ydepthR = penetration_depth(dO2_lp=dO2_Rlp, ls_kernel=ls_kernel, df_ms=df_ms, \n",
    "                           treshold=threshold)\n",
    "\n",
    "# plotting penetration depth for different kernel sizes and functions\n",
    "fig_Rpen = plot_penetrationDepth(depth=ydepthR[0], arg=arg,\n",
    "                                 ls_kernel=[(l[0],round(l[1] / px2mm, 5)) \n",
    "                                            for l in ls_kernel])\n",
    "fig_Rpen.axes[0].set_xlabel('kernel size [mm]')\n",
    "plt.show()"
   ]
  },
  {
   "cell_type": "code",
   "execution_count": 829,
   "id": "8dc501ea",
   "metadata": {},
   "outputs": [],
   "source": [
    "# SAVE depth profile\n",
    "now = datetime.datetime.now() \n",
    "\n",
    "# .....................................\n",
    "name_DP_ = save_dir_plots + '/' + now.strftime(\"%Y%m%d-%H%M%S\") + '_DepthProfile_ratioIntensity-blurred_' + '-'.join([i.strip() for i in inp.split(',')])\n",
    "for k in dimagesR.keys():\n",
    "    name_DP = name_DP_ + '_kernel-' + str(k[0]) + '.'\n",
    "    for t in type_plot:\n",
    "        dimagesR[k].savefig(name_DP + t, dpi=300, transparent=False)\n",
    "        \n",
    "# .....................................\n",
    "name_pen = save_dir_plots + '/' + now.strftime(\"%Y%m%d-%H%M%S\") + '_PenetrationDepth_ratioIntensity-blurred_' + '-'.join([i.strip() for i in inp.split(',')])\n",
    "for t in type_plot:\n",
    "    fig_Rpen.savefig(name_pen + '.' + t, dpi=300, transparent=False)"
   ]
  },
  {
   "cell_type": "code",
   "execution_count": null,
   "id": "7d6740ef",
   "metadata": {},
   "outputs": [],
   "source": []
  },
  {
   "cell_type": "markdown",
   "id": "fe61549f",
   "metadata": {},
   "source": [
    "Option-1.2: Gauss filter applied to individual intensity channels red and green"
   ]
  },
  {
   "cell_type": "code",
   "execution_count": 830,
   "id": "fdb9d285",
   "metadata": {},
   "outputs": [],
   "source": [
    "# determine O2 concentration for the depth profile (1D) for different image blurs\n",
    "dO2_Slp = dict(map(lambda k: \n",
    "                  (k, O2_lineprofile_compare_v2(inp=inp, surface=surface, kernel=kernel, \n",
    "                                                kshape=k, lp=pos_lp, path_calib=file_calib,\n",
    "                                                dint_ch1=dint_red, dint_ch2=dint_green,\n",
    "                                                px2mm=px2mm, ls_lw=ls_lw, \n",
    "                                                blur_pos='single')), ls_kernel))\n",
    "\n",
    "# determine O2 concentration for different image blurs for an excerpt of the optode in 2D\n",
    "dO2_Soptode = dict(map(lambda k: \n",
    "                      (k, O2blur_optode(kshape=k, inp=inp, path_calib=file_calib, \n",
    "                                        px2mm=px2mm, kernel=kernel, dint_ch1=dint_red, \n",
    "                                        dint_ch2=dint_green, surface=surface, \n",
    "                                        depth_min=depth_op[0], depth_max=depth_op[1], \n",
    "                                        blur_pos='single')), ls_kernel))"
   ]
  },
  {
   "cell_type": "code",
   "execution_count": 831,
   "id": "6d167efe",
   "metadata": {},
   "outputs": [
    {
     "name": "stderr",
     "output_type": "stream",
     "text": [
      "/Users/au652733/Python/Project_NoiseResolution/functions_NoiseStudy.py:400: RuntimeWarning: More than 20 figures have been opened. Figures created through the pyplot interface (`matplotlib.pyplot.figure`) are retained until explicitly closed and may consume too much memory. (To control this warning, see the rcParam `figure.max_open_warning`).\n",
      "  fig_lp = plt.figure(figsize=(arg['figsize']), dpi=100)\n"
     ]
    }
   ],
   "source": [
    "# VISUALIZE image blur along line profile\n",
    "# prepare microsensor for joint visualization\n",
    "df_ms = prepMS_plot(index_lp=dO2_Slp[ls_kernel[0]]['vertical'][ls_lw[0]].index,\n",
    "                    dic_micro=dic_micro, offset=arg['offset ms'])\n",
    "\n",
    "# plot lineprofile and excerpt of optode \n",
    "dimagesS = dict()\n",
    "for k in ls_kernel:\n",
    "    fig_lp = plotLP(kshape=k, dO2_lp=dO2_Slp, dO2_optode=dO2_Soptode, df_ms=df_ms, arg=arg,\n",
    "                    header_ms=['Depth (mm)', 'Intensity'], depth_lp=depth_lp, \n",
    "                    s=inp.split(',')[1].strip(), depth=df_ms['Depth (mm)'])\n",
    "    dimagesS[k] = fig_lp"
   ]
  },
  {
   "cell_type": "code",
   "execution_count": 832,
   "id": "387d4747",
   "metadata": {},
   "outputs": [],
   "source": [
    "# O2 penetration depth\n",
    "# set O2 level used for calculating the penetration depth in %air\n",
    "threshold = 5.\n",
    "\n",
    "# O2 penetration depth\n",
    "ydepthS = penetration_depth(dO2_lp=dO2_Slp, ls_kernel=ls_kernel, df_ms=df_ms, \n",
    "                            treshold=threshold)\n",
    "\n",
    "# plotting penetration depth for different kernel sizes and functions\n",
    "fig_Spen = plot_penetrationDepth(depth=ydepthS[0], arg=arg, \n",
    "                                 ls_kernel=[(l[0],round(l[1] / px2mm, 5)) \n",
    "                                            for l in ls_kernel])\n",
    "fig_Spen.axes[0].set_xlabel('kernel size [mm]')\n",
    "\n",
    "plt.show()"
   ]
  },
  {
   "cell_type": "code",
   "execution_count": 833,
   "id": "1a0ddc73",
   "metadata": {},
   "outputs": [],
   "source": [
    "# save depth profile\n",
    "now = datetime.datetime.now() \n",
    "\n",
    "# .....................................\n",
    "name_DP_ = save_dir_plots + '/' + now.strftime(\"%Y%m%d-%H%M%S\") + '_DepthProfile_individualChannels-blurred_' + '-'.join([i.strip() for i in inp.split(',')])\n",
    "for k in dimagesS.keys():\n",
    "    name_DP = name_DP_ + '_kernel-' + str(k[0]) + '.'\n",
    "    for t in type_plot:\n",
    "        dimagesS[k].savefig(name_DP + t, dpi=300, transparent=False)\n",
    "        \n",
    "# .....................................\n",
    "name_pen = save_dir_plots + '/' + now.strftime(\"%Y%m%d-%H%M%S\") + '_PenetrationDepth_individualChannels-blurred_' + '-'.join([i.strip() for i in inp.split(',')])\n",
    "for t in type_plot:\n",
    "    fig_Spen.savefig(name_pen + '.' + t, dpi=300, transparent=False)"
   ]
  },
  {
   "cell_type": "code",
   "execution_count": null,
   "id": "60e0a098",
   "metadata": {},
   "outputs": [],
   "source": []
  },
  {
   "cell_type": "markdown",
   "id": "faf37e14",
   "metadata": {},
   "source": [
    "Option-1.3: Gauss filter applied to normalized ratiometric intensity"
   ]
  },
  {
   "cell_type": "code",
   "execution_count": 834,
   "id": "eaae5dcf",
   "metadata": {},
   "outputs": [],
   "source": [
    "# determine O2 concentration for the depth profile (1D) for different image blurs\n",
    "dO2_Nlp = dict(map(lambda k: \n",
    "                  (k, O2_lineprofile_compare_v2(inp=inp, surface=surface, kernel=kernel, \n",
    "                                                kshape=k, lp=pos_lp, path_calib=file_calib,\n",
    "                                                dint_ch1=dint_ratio, dint_ch2=None,\n",
    "                                                px2mm=px2mm, ls_lw=ls_lw, \n",
    "                                                blur_pos='norm')), ls_kernel))"
   ]
  },
  {
   "cell_type": "code",
   "execution_count": 835,
   "id": "4830a3d8",
   "metadata": {},
   "outputs": [],
   "source": [
    "# determine O2 concentration for different image blurs for an excerpt of the optode in 2D\n",
    "dO2_Noptode = dict(map(lambda k: \n",
    "                      (k, O2blur_optode(kshape=k, inp=inp, path_calib=file_calib, \n",
    "                                        px2mm=px2mm, kernel=kernel, dint_ch1=dint_ratio, \n",
    "                                        surface=surface, depth_min=depth_op[0], \n",
    "                                        depth_max=depth_op[1], blur_pos='norm')), \n",
    "                       ls_kernel))"
   ]
  },
  {
   "cell_type": "code",
   "execution_count": 836,
   "id": "03a7d148",
   "metadata": {},
   "outputs": [],
   "source": [
    "# VISUALIZE image blur along line profile\n",
    "# prepare microsensor for joint visualization\n",
    "df_ms = prepMS_plot(index_lp=dO2_Nlp[ls_kernel[0]]['vertical'][ls_lw[0]].index,\n",
    "                    dic_micro=dic_micro, offset=arg['offset ms'])\n",
    "\n",
    "# plot lineprofile and excerpt of optode \n",
    "dimagesN = dict()\n",
    "for k in ls_kernel:\n",
    "    fig_lp = plotLP(kshape=k, dO2_lp=dO2_Nlp, dO2_optode=dO2_Noptode, df_ms=df_ms, arg=arg,\n",
    "                    header_ms=['Depth (mm)', 'Intensity'], depth_lp=depth_lp, \n",
    "                    s=inp.split(',')[1].strip(), depth=df_ms['Depth (mm)'])\n",
    "    dimagesN[k] = fig_lp"
   ]
  },
  {
   "cell_type": "code",
   "execution_count": 837,
   "id": "e2de0b06",
   "metadata": {},
   "outputs": [],
   "source": [
    "# O2 penetration depth\n",
    "# set O2 level used for calculating the penetration depth in %air\n",
    "threshold = 5.\n",
    "\n",
    "# O2 penetration depth\n",
    "ydepthN = penetration_depth(dO2_lp=dO2_Nlp, ls_kernel=ls_kernel, df_ms=df_ms, \n",
    "                            treshold=threshold)\n",
    "\n",
    "# plotting penetration depth for different kernel sizes and functions\n",
    "fig_Npen = plot_penetrationDepth(depth=ydepthN[0], arg=arg, \n",
    "                                 ls_kernel=[(l[0],round(l[1] / px2mm, 5)) \n",
    "                                            for l in ls_kernel])\n",
    "fig_Npen.axes[0].set_xlabel('kernel size [mm]')\n",
    "\n",
    "plt.show()"
   ]
  },
  {
   "cell_type": "code",
   "execution_count": 839,
   "id": "5815d6c4",
   "metadata": {},
   "outputs": [],
   "source": [
    "# save depth profile\n",
    "now = datetime.datetime.now() \n",
    "name_DP_ = save_dir_plots + '/' + now.strftime(\"%Y%m%d-%H%M%S\") + '_DepthProfile_normalizedIntensity-blurred_' + '-'.join([i.strip() for i in inp.split(',')])\n",
    "\n",
    "# .....................................\n",
    "for k in dimagesN.keys():\n",
    "    name_DP = name_DP_ + '_kernel-' + str(k[0]) + '.'\n",
    "    for t in type_plot:\n",
    "        dimagesN[k].savefig(name_DP + t, dpi=300, transparent=False)\n",
    "        \n",
    "# .....................................\n",
    "name_pen = save_dir_plots + '/' + now.strftime(\"%Y%m%d-%H%M%S\") + '_PenetrationDepth_normalizedIntensity-blurred_' + '-'.join([i.strip() for i in inp.split(',')])\n",
    "for t in type_plot:\n",
    "    fig_Npen.savefig(name_pen + '.' + t, dpi=300, transparent=False)"
   ]
  },
  {
   "cell_type": "code",
   "execution_count": null,
   "id": "92de3911",
   "metadata": {},
   "outputs": [],
   "source": []
  },
  {
   "cell_type": "markdown",
   "id": "ec02e3e3",
   "metadata": {},
   "source": [
    "##### Option-2: Savitzky-Golay filter"
   ]
  },
  {
   "cell_type": "code",
   "execution_count": 840,
   "id": "56e17763",
   "metadata": {},
   "outputs": [],
   "source": [
    "# preparation lineprofile\n",
    "surface = (12.9, 12.) # optode 1, optode2\n",
    "depth_lp = (-4, 4) # depth for 2D line profile \n",
    "depth_op =  (-1.5, 1.) # depth for optode excerpt\n",
    "pos_lp = (7., 3.) # position of the depth profile within the optode\n",
    "ls_lw = [0] # line with of the drawn depth profile\n",
    "\n",
    "# kernel size\n",
    "kernel = 'savgol'\n",
    "\n",
    "# polyorder, window\n",
    "ls_kernel = [(2,3), (2, 5), (2,7), (2,9), (2,11), (2,13), (2,15), (2,17), (2,19), (2,21), \n",
    "             (2,31), (2,41), (2, 51), (2,61), (2,71), (2,81)]#,\n",
    "             #(3,5), (3,7), (3,9), (3,11), (3,13), (3,15), (3,17), (3,19), (3,21), \n",
    "             #(3,31), (3,41), (3,51), (3,61), (3,71), (3,81)]\n",
    "\n",
    "# .................................................................\n",
    "# additional information for visualization\n",
    "arg = dict({'curve lw': 1.5, 'vmin':-5, 'vmax': 130, 'lw': 0.0, 'offset ms': 0.2,\n",
    "           'aspect': 4, 'cmap': plt.cm.inferno, 'vmin op': 0, 'vmax op': 100,\n",
    "           'figsize': (12, 5), 'fontsize': 11, 'marker': ['o', 'd', '.', 'x'],\n",
    "           'colors': ['slategrey', 'darkorange', 'k', 'forestgreen']})"
   ]
  },
  {
   "cell_type": "markdown",
   "id": "335016b4",
   "metadata": {},
   "source": [
    "Option-2.1: Savgol filter applied to ratiometric intensity"
   ]
  },
  {
   "cell_type": "code",
   "execution_count": 841,
   "id": "fec4b52a",
   "metadata": {},
   "outputs": [],
   "source": [
    "# determine O2 concentration for the depth profile (1D) for different image blurs\n",
    "dO2_Rlp_sav = dict(map(lambda k: \n",
    "                  (k, O2_lineprofile_compare_v2(inp=inp, surface=surface, kernel=kernel, \n",
    "                                                kshape=k, lp=pos_lp, path_calib=file_calib,\n",
    "                                                dint_ch1=dint_ratio, dint_ch2=None,\n",
    "                                                px2mm=px2mm, ls_lw=ls_lw, \n",
    "                                                blur_pos='ratio')), ls_kernel))\n",
    "\n",
    "# determine O2 concentration for different image blurs for an excerpt of the optode in 2D\n",
    "dO2_Roptode_sav = dict(map(lambda k: \n",
    "                      (k, O2blur_optode(kshape=k, inp=inp, path_calib=file_calib, \n",
    "                                        px2mm=px2mm, kernel=kernel, dint_ch1=dint_ratio, \n",
    "                                        surface=surface, depth_min=depth_op[0], \n",
    "                                        depth_max=depth_op[1], blur_pos='ratio')), \n",
    "                       ls_kernel))"
   ]
  },
  {
   "cell_type": "code",
   "execution_count": 842,
   "id": "7e544859",
   "metadata": {},
   "outputs": [],
   "source": [
    "# VISUALIZE image blur along line profile\n",
    "# prepare microsensor for joint visualization\n",
    "df_ms = prepMS_plot(index_lp=dO2_Rlp_sav[ls_kernel[0]]['vertical'][ls_lw[0]].index,\n",
    "                    dic_micro=dic_micro, offset=arg['offset ms'])\n",
    "\n",
    "# plot lineprofile and excerpt of optode \n",
    "dimagesR_sav = dict()\n",
    "for k in ls_kernel:\n",
    "    fig_lp_sav = plotLP(kshape=k, dO2_lp=dO2_Rlp_sav, dO2_optode=dO2_Roptode_sav, arg=arg,\n",
    "                        df_ms=df_ms, header_ms=['Depth (mm)', 'Intensity'], \n",
    "                        depth_lp=depth_lp, s=inp.split(',')[1].strip(), \n",
    "                        depth=df_ms['Depth (mm)'])\n",
    "    dimagesR_sav[k] = fig_lp_sav"
   ]
  },
  {
   "cell_type": "code",
   "execution_count": 845,
   "id": "8da34098",
   "metadata": {},
   "outputs": [
    {
     "name": "stdout",
     "output_type": "stream",
     "text": [
      "[(2, 3), (2, 5), (2, 7), (2, 9), (2, 11), (2, 13), (2, 15), (2, 17), (2, 19), (2, 21), (2, 31), (2, 41), (2, 51), (2, 61), (2, 71), (2, 81)]\n"
     ]
    }
   ],
   "source": [
    "# O2 penetration depth\n",
    "# set O2 level used for calculating the penetration depth in %air\n",
    "threshold = 5.\n",
    "\n",
    "# O2 penetration depth\n",
    "ydepthR_sav = penetration_depth(dO2_lp=dO2_Rlp_sav, ls_kernel=ls_kernel, df_ms=df_ms, \n",
    "                                treshold=threshold)\n",
    "\n",
    "# plotting penetration depth for different kernel sizes and functions\n",
    "l = [i for i in ydepthR_sav[0].index if 2 in i]\n",
    "lind = [i for i in ydepthR_sav[0].index if 2 in i]\n",
    "l_ind = [(l[0],round(l[1] / px2mm, 5)) for l in lind]\n",
    "\n",
    "fig_Rpen_sav2 = plot_penetrationDepth(depth=ydepthR_sav[0].loc[l], ls_kernel=l_ind, arg=arg)\n",
    "fig_Rpen_sav2.axes[0].set_xlabel('kernel size [mm]')\n",
    "fig_Rpen_sav2.text(0.2, 0.92, '2nd degree polynom')\n",
    "plt.subplots_adjust(top=0.9)\n",
    "\n",
    "#l3 = [i for i in ydepthR_sav[0].index if 3 in i]\n",
    "#l3_ind = [i for i in ydepthR_sav[0].index if 3 in i]\n",
    "#fig_Rpen_sav3 = plot_penetrationDepth(depth=ydepthR_sav[0].loc[l3], ls_kernel=l3_ind, arg=arg)\n",
    "#fig_Rpen_sav3.text(0.2, 0.92, '3rd degree polynom')\n",
    "#plt.subplots_adjust(top=0.9)\n",
    "\n",
    "plt.show()"
   ]
  },
  {
   "cell_type": "code",
   "execution_count": 846,
   "id": "f2778d96",
   "metadata": {},
   "outputs": [],
   "source": [
    "# save depth profile\n",
    "now = datetime.datetime.now() \n",
    "name_DP_ = save_dir_plots + '/' + now.strftime(\"%Y%m%d-%H%M%S\") + '_DepthProfile_ratiometricIntensity-blurred-Savgol_' + '-'.join([i.strip() for i in inp.split(',')])\n",
    "\n",
    "# .....................................\n",
    "for k in dimagesR_sav.keys():\n",
    "    name_DP = name_DP_ + '_poly-' + str(k[0]) + 'nd-window-' +str(k[1])+ '.'\n",
    "    for t in type_plot:\n",
    "        dimagesR_sav[k].savefig(name_DP + t, dpi=300, transparent=False)\n",
    "        \n",
    "# .....................................\n",
    "name_pen = save_dir_plots + '/' + now.strftime(\"%Y%m%d-%H%M%S\") + '_PenetrationDepth_ratiometricIntensity-blurred-Savgol_' + '-'.join([i.strip() for i in inp.split(',')])\n",
    "for t in type_plot:\n",
    "    fig_Rpen_sav2.savefig(name_pen + '-2ndDegree.' + t, dpi=300, transparent=False)\n",
    "    fig_Rpen_sav3.savefig(name_pen + '-3rdDegree.' + t, dpi=300, transparent=False)"
   ]
  },
  {
   "cell_type": "code",
   "execution_count": null,
   "id": "5bbc5eeb",
   "metadata": {},
   "outputs": [],
   "source": []
  },
  {
   "cell_type": "markdown",
   "id": "3070600a",
   "metadata": {},
   "source": [
    "Option-2.2: Savgol filter applied to individual intensity channels red and green"
   ]
  },
  {
   "cell_type": "code",
   "execution_count": 847,
   "id": "c081321a",
   "metadata": {},
   "outputs": [],
   "source": [
    "# determine O2 concentration for the depth profile (1D) for different image blurs\n",
    "dO2_Slp_sav = dict(map(lambda k: \n",
    "                  (k, O2_lineprofile_compare_v2(inp=inp, surface=surface, kernel=kernel, \n",
    "                                                kshape=k, lp=pos_lp, path_calib=file_calib,\n",
    "                                                dint_ch1=dint_red, dint_ch2=dint_green, \n",
    "                                                px2mm=px2mm, ls_lw=ls_lw, \n",
    "                                                blur_pos='single')), ls_kernel))\n",
    "\n",
    "# determine O2 concentration for different image blurs for an excerpt of the optode in 2D\n",
    "dO2_Soptode_sav = dict(map(lambda k: \n",
    "                      (k, O2blur_optode(kshape=k, inp=inp, path_calib=file_calib, \n",
    "                                        px2mm=px2mm, kernel=kernel, dint_ch1=dint_red, \n",
    "                                        dint_ch2=dint_green, surface=surface, \n",
    "                                        depth_min=depth_op[0], depth_max=depth_op[1], \n",
    "                                        blur_pos='single')), ls_kernel))"
   ]
  },
  {
   "cell_type": "code",
   "execution_count": 848,
   "id": "7bf3b681",
   "metadata": {},
   "outputs": [],
   "source": [
    "# VISUALIZE image blur along line profile\n",
    "# prepare microsensor for joint visualization\n",
    "df_ms = prepMS_plot(index_lp=dO2_Slp_sav[ls_kernel[0]]['vertical'][ls_lw[0]].index,\n",
    "                    dic_micro=dic_micro, offset=arg['offset ms'])\n",
    "\n",
    "# plot lineprofile and excerpt of optode \n",
    "dimagesS_sav = dict()\n",
    "for k in ls_kernel:\n",
    "    fig_lp_sav = plotLP(kshape=k, dO2_lp=dO2_Slp_sav, dO2_optode=dO2_Soptode_sav, arg=arg,\n",
    "                        df_ms=df_ms, header_ms=['Depth (mm)', 'Intensity'], \n",
    "                        depth_lp=depth_lp, s=inp.split(',')[1].strip(), \n",
    "                        depth=df_ms['Depth (mm)'])\n",
    "    dimagesS_sav[k] = fig_lp_sav"
   ]
  },
  {
   "cell_type": "code",
   "execution_count": 849,
   "id": "d2fe4b18",
   "metadata": {},
   "outputs": [],
   "source": [
    "# O2 penetration depth\n",
    "# set O2 level used for calculating the penetration depth in %air\n",
    "threshold = 5.\n",
    "\n",
    "# O2 penetration depth\n",
    "ydepthS_sav = penetration_depth(dO2_lp=dO2_Slp_sav, ls_kernel=ls_kernel, df_ms=df_ms, \n",
    "                                treshold=threshold)\n",
    "\n",
    "# plotting penetration depth for different kernel sizes and functions\n",
    "l = [i for i in ydepthS_sav[0].index if 2 in i]\n",
    "lind = [i for i in ydepthS_sav[0].index if 2 in i]\n",
    "l_ind = [(l[0],round(l[1] / px2mm, 5)) for l in lind]\n",
    "fig_Spen_sav2 = plot_penetrationDepth(depth=ydepthS_sav[0].loc[l], ls_kernel=l_ind, arg=arg)\n",
    "fig_Spen_sav2.axes[0].set_xlabel('kernel size [mm]')\n",
    "fig_Spen_sav2.text(0.2, 0.92, '2nd degree polynom')\n",
    "plt.subplots_adjust(top=0.9)\n",
    "\n",
    "#l3 = [i for i in ydepthS_sav[0].index if 3 in i]\n",
    "#l3_ind = [i for i in ydepthS_sav[0].index if 3 in i]\n",
    "#fig_Spen_sav3 = plot_penetrationDepth(depth=ydepthS_sav[0].loc[l3], ls_kernel=l3_ind, arg=arg)\n",
    "#fig_Spen_sav3.text(0.2, 0.92, '3rd degree polynom')\n",
    "#plt.subplots_adjust(top=0.9)\n",
    "\n",
    "plt.show()"
   ]
  },
  {
   "cell_type": "code",
   "execution_count": 582,
   "id": "c07a6371",
   "metadata": {},
   "outputs": [],
   "source": [
    "# save depth profile\n",
    "now = datetime.datetime.now() \n",
    "name_DP_ = save_dir_plots + '/' + now.strftime(\"%Y%m%d-%H%M%S\") + '_DepthProfile_singleChannel-blurred-Savgol_' + '-'.join([i.strip() for i in inp.split(',')])\n",
    "\n",
    "# .....................................\n",
    "for k in dimagesS_sav.keys():\n",
    "    name_DP = name_DP_ + '_poly-' + str(k[0]) + 'nd-window-' +str(k[1])+ '.'\n",
    "    for t in type_plot:\n",
    "        dimagesS_sav[k].savefig(name_DP + t, dpi=300, transparent=False)\n",
    "        \n",
    "# .....................................\n",
    "name_pen = save_dir_plots + '/' + now.strftime(\"%Y%m%d-%H%M%S\") + '_PenetrationDepth_singleChannel-blurred-Savgol_' + '-'.join([i.strip() for i in inp.split(',')])\n",
    "for t in type_plot:\n",
    "    fig_Spen_sav2.savefig(name_pen + '-2ndDegree.' + t, dpi=300, transparent=False)\n",
    "    fig_Spen_sav3.savefig(name_pen + '-3rdDegree.' + t, dpi=300, transparent=False)"
   ]
  },
  {
   "cell_type": "code",
   "execution_count": null,
   "id": "4e5289d5",
   "metadata": {},
   "outputs": [],
   "source": []
  },
  {
   "cell_type": "markdown",
   "id": "9ce649c1",
   "metadata": {},
   "source": [
    "Option-2.3: Savgol filter applied to normalized ratiometric intensity"
   ]
  },
  {
   "cell_type": "code",
   "execution_count": 850,
   "id": "356e5f35",
   "metadata": {},
   "outputs": [],
   "source": [
    "# determine O2 concentration for the depth profile (1D) for different image blurs\n",
    "dO2_Nlp_sav = dict(map(lambda k: \n",
    "                  (k, O2_lineprofile_compare_v2(inp=inp, surface=surface, kernel=kernel, \n",
    "                                                kshape=k, lp=pos_lp, path_calib=file_calib,\n",
    "                                                dint_ch1=dint_ratio, dint_ch2=None, \n",
    "                                                px2mm=px2mm, ls_lw=ls_lw, \n",
    "                                                blur_pos='norm')), ls_kernel))"
   ]
  },
  {
   "cell_type": "code",
   "execution_count": 851,
   "id": "4d1258ab",
   "metadata": {
    "scrolled": true
   },
   "outputs": [],
   "source": [
    "# determine O2 concentration for different image blurs for an excerpt of the optode in 2D\n",
    "dO2_Noptode_sav = dict(map(lambda k: \n",
    "                      (k, O2blur_optode(kshape=k, inp=inp, path_calib=file_calib, \n",
    "                                        px2mm=px2mm, kernel=kernel, dint_ch1=dint_ratio, \n",
    "                                        dint_ch2=None, surface=surface, \n",
    "                                        depth_min=depth_op[0], depth_max=depth_op[1], \n",
    "                                        blur_pos='norm')), ls_kernel))"
   ]
  },
  {
   "cell_type": "code",
   "execution_count": 852,
   "id": "f266be1b",
   "metadata": {},
   "outputs": [],
   "source": [
    "# VISUALIZE image blur along line profile\n",
    "# prepare microsensor for joint visualization\n",
    "df_ms = prepMS_plot(index_lp=dO2_Nlp_sav[ls_kernel[0]]['vertical'][ls_lw[0]].index,\n",
    "                    dic_micro=dic_micro, offset=arg['offset ms'])\n",
    "\n",
    "# plot lineprofile and excerpt of optode \n",
    "dimagesN_sav = dict()\n",
    "for k in ls_kernel:\n",
    "    fig_lp_sav = plotLP(kshape=k, dO2_lp=dO2_Nlp_sav, dO2_optode=dO2_Noptode_sav, arg=arg,\n",
    "                        df_ms=df_ms, header_ms=['Depth (mm)', 'Intensity'], \n",
    "                        depth_lp=depth_lp, s=inp.split(',')[1].strip(), \n",
    "                        depth=df_ms['Depth (mm)'])\n",
    "    dimagesN_sav[k] = fig_lp_sav"
   ]
  },
  {
   "cell_type": "code",
   "execution_count": 855,
   "id": "0f1befeb",
   "metadata": {},
   "outputs": [],
   "source": [
    "# O2 penetration depth\n",
    "# set O2 level used for calculating the penetration depth in %air\n",
    "threshold = 5.\n",
    "\n",
    "# O2 penetration depth\n",
    "ydepthN_sav = penetration_depth(dO2_lp=dO2_Nlp_sav, ls_kernel=ls_kernel, df_ms=df_ms, \n",
    "                                treshold=threshold)\n",
    "\n",
    "# plotting penetration depth for different kernel sizes and functions\n",
    "l = [i for i in ydepthS_sav[0].index if 2 in i]\n",
    "lind = [i for i in ydepthS_sav[0].index if 2 in i]\n",
    "l_ind = [(l[0],round(l[1] / px2mm, 5)) for l in lind]\n",
    "fig_Npen_sav2 = plot_penetrationDepth(depth=ydepthN_sav[0].loc[l], ls_kernel=l_ind, arg=arg)\n",
    "fig_Npen_sav2.axes[0].set_xlabel('kernel size [mm]')\n",
    "fig_Npen_sav2.text(0.2, 0.92, '2nd degree polynom')\n",
    "plt.subplots_adjust(top=0.9)\n",
    "\n",
    "#l3 = [i for i in ydepthN_sav[0].index if 3 in i]\n",
    "#l3_ind = [i for i in ydepthN_sav[0].index if 3 in i]\n",
    "#fig_Npen_sav3 = plot_penetrationDepth(depth=ydepthN_sav[0].loc[l3], ls_kernel=l3_ind, arg=arg)\n",
    "#fig_Npen_sav3.text(0.2, 0.92, '3rd degree polynom')\n",
    "#plt.subplots_adjust(top=0.9)\n",
    "\n",
    "plt.show()"
   ]
  },
  {
   "cell_type": "code",
   "execution_count": 854,
   "id": "d60715a9",
   "metadata": {},
   "outputs": [],
   "source": [
    "# save depth profile\n",
    "now = datetime.datetime.now() \n",
    "name_DP_ = save_dir_plots + '/' + now.strftime(\"%Y%m%d-%H%M%S\") + '_DepthProfile_normalizedIntensity-blurred-Savgol_' + '-'.join([i.strip() for i in inp.split(',')])\n",
    "\n",
    "# .....................................\n",
    "#for k in dimagesS_sav.keys():\n",
    "#    name_DP = name_DP_ + '_poly-' + str(k[0]) + 'nd-window-' +str(k[1])+ '.'\n",
    "#    for t in type_plot:\n",
    "#        dimagesS_sav[k].savefig(name_DP + t, dpi=300, transparent=False)\n",
    "        \n",
    "# .....................................\n",
    "name_pen = save_dir_plots + '/' + now.strftime(\"%Y%m%d-%H%M%S\") + '_PenetrationDepth_normalizedIntensity-blurred-Savgol_' + '-'.join([i.strip() for i in inp.split(',')])\n",
    "for t in type_plot:\n",
    "    fig_Spen_sav2.savefig(name_pen + '-2ndDegree.' + t, dpi=300, transparent=False)\n",
    "    #fig_Spen_sav3.savefig(name_pen + '-3rdDegree.' + t, dpi=300, transparent=False)"
   ]
  },
  {
   "cell_type": "code",
   "execution_count": null,
   "id": "859d03d9",
   "metadata": {},
   "outputs": [],
   "source": []
  },
  {
   "cell_type": "code",
   "execution_count": null,
   "id": "f53ffa59",
   "metadata": {},
   "outputs": [],
   "source": []
  },
  {
   "cell_type": "code",
   "execution_count": null,
   "id": "b158c34b",
   "metadata": {},
   "outputs": [],
   "source": []
  },
  {
   "cell_type": "code",
   "execution_count": null,
   "id": "061fe6aa",
   "metadata": {},
   "outputs": [],
   "source": []
  },
  {
   "cell_type": "markdown",
   "id": "78573f08",
   "metadata": {},
   "source": [
    "### Compare penetration depths"
   ]
  },
  {
   "cell_type": "code",
   "execution_count": null,
   "id": "a57b7d47",
   "metadata": {},
   "outputs": [],
   "source": [
    "kernel_select = ls_kernel[:10]\n",
    "fs = 13\n",
    "nk = len(kernel_select)\n",
    "d, d1, d2 = 'vertical', 'horizontal', 'square'"
   ]
  },
  {
   "cell_type": "code",
   "execution_count": null,
   "id": "72d67aa3",
   "metadata": {},
   "outputs": [],
   "source": [
    "fig, ax = plt.subplots(figsize=(18,3), ncols=3, sharex=True, sharey=True)\n",
    "ax[0].set_ylabel('O$_2$ penetration depth [mm]', fontsize=fs)\n",
    "ax[1].set_xlabel('kernel size', fontsize=fs)\n",
    "\n",
    "ax[0].set_title('single color channel', loc='left', fontsize=fs*0.9)\n",
    "ax[0].plot(kernel_select, list(ydepthS[0][d].to_numpy())[:nk], marker=arg['marker'][0], \n",
    "          fillstyle='none', lw=0.5, ls='-.', color=arg['colors'][0], label=d + ' blur')\n",
    "ax[0].plot(kernel_select, list(ydepthS[0][d1].to_numpy())[:nk], marker=arg['marker'][0], \n",
    "          fillstyle='none', lw=0.5, ls='-.', color=arg['colors'][1], label=d1 + ' blur')\n",
    "ax[0].plot(kernel_select, list(ydepthS[0][d2].to_numpy())[:nk], marker=arg['marker'][0], \n",
    "          fillstyle='none', lw=0.5, ls='-.', color=arg['colors'][2], label=d2 + ' blur')\n",
    "\n",
    "ax[1].set_title('ratiometric intensity', loc='left', fontsize=fs*0.9)\n",
    "ax[1].plot(kernel_select, list(ydepthR[0][d].to_numpy())[:nk], marker=arg['marker'][0], \n",
    "          fillstyle='none', lw=0.5, ls='-.', color=arg['colors'][0])\n",
    "ax[1].plot(kernel_select, list(ydepthR[0][d1].to_numpy())[:nk], marker=arg['marker'][0], \n",
    "          fillstyle='none', lw=0.5, ls='-.', color=arg['colors'][1])\n",
    "ax[1].plot(kernel_select, list(ydepthR[0][d2].to_numpy())[:nk], marker=arg['marker'][0], \n",
    "          fillstyle='none', lw=0.5, ls='-.', color=arg['colors'][2])\n",
    "\n",
    "ax[2].set_title('normalized intensity', loc='left', fontsize=fs*0.9)\n",
    "ax[2].plot(kernel_select, list(ydepthN[0][d].to_numpy())[:nk], marker=arg['marker'][0], \n",
    "          fillstyle='none', lw=0.5, ls='-.', color=arg['colors'][0])\n",
    "ax[2].plot(kernel_select, list(ydepthN[0][d1].to_numpy())[:nk], marker=arg['marker'][0], \n",
    "          fillstyle='none', lw=0.5, ls='-.', color=arg['colors'][1])\n",
    "ax[2].plot(kernel_select, list(ydepthN[0][d2].to_numpy())[:nk], marker=arg['marker'][0], \n",
    "          fillstyle='none', lw=0.5, ls='-.', color=arg['colors'][2])\n",
    "\n",
    "# format legend\n",
    "handles, labels = ax[0].get_legend_handles_labels()\n",
    "by_label = dict(zip(labels, handles))\n",
    "ax[0].legend(by_label.values(), by_label.keys(), loc='upper left')\n",
    "\n",
    "\n",
    "plt.tight_layout()"
   ]
  },
  {
   "cell_type": "code",
   "execution_count": null,
   "id": "f4d768fb",
   "metadata": {},
   "outputs": [],
   "source": []
  },
  {
   "cell_type": "code",
   "execution_count": null,
   "id": "669b6eb0",
   "metadata": {},
   "outputs": [],
   "source": [
    "fig, ax = plt.subplots(figsize=(18,3), ncols=3, sharex=True, sharey=True)\n",
    "ax[0].set_ylabel('O$_2$ penetration depth [mm]', fontsize=fs)\n",
    "ax[1].set_xlabel('kernel size', fontsize=fs)\n",
    "\n",
    "ax[0].set_title('vertical blur', loc='left', fontsize=fs*0.9)\n",
    "ax[0].plot(kernel_select, list(ydepthS[0][d].to_numpy())[:nk], marker=arg['marker'][0], \n",
    "          fillstyle='none', lw=0.5, ls='-.', color=arg['colors'][0], label='single channel')\n",
    "ax[0].plot(kernel_select, list(ydepthR[0][d].to_numpy())[:nk], marker=arg['marker'][1], \n",
    "          fillstyle='none', lw=0.5, ls='-.', color=arg['colors'][1], label='ratiometric intensity')\n",
    "ax[0].plot(kernel_select, list(ydepthN[0][d].to_numpy())[:nk], marker=arg['marker'][2], \n",
    "          fillstyle='none', lw=0.5, ls='-.', color=arg['colors'][2], label='norm. intensity')\n",
    "\n",
    "ax[1].set_title('horizontal blur', loc='left', fontsize=fs*0.9)\n",
    "ax[1].plot(kernel_select, list(ydepthS[0][d1].to_numpy())[:nk], marker=arg['marker'][0], \n",
    "          fillstyle='none', lw=0.5, ls='-.', color=arg['colors'][0])\n",
    "ax[1].plot(kernel_select, list(ydepthR[0][d1].to_numpy())[:nk], marker=arg['marker'][1], \n",
    "          fillstyle='none', lw=0.5, ls='-.', color=arg['colors'][1])\n",
    "ax[1].plot(kernel_select, list(ydepthN[0][d1].to_numpy())[:nk], marker=arg['marker'][2], \n",
    "          fillstyle='none', lw=0.5, ls='-.', color=arg['colors'][2])\n",
    "\n",
    "ax[2].set_title('square blur', loc='left', fontsize=fs*0.9)\n",
    "ax[2].plot(kernel_select, list(ydepthS[0][d2].to_numpy())[:nk], marker=arg['marker'][0], \n",
    "          fillstyle='none', lw=0.5, ls='-.', color=arg['colors'][0])\n",
    "ax[2].plot(kernel_select, list(ydepthR[0][d2].to_numpy())[:nk], marker=arg['marker'][1], \n",
    "          fillstyle='none', lw=0.5, ls='-.', color=arg['colors'][1])\n",
    "ax[2].plot(kernel_select, list(ydepthN[0][d2].to_numpy())[:nk], marker=arg['marker'][2], \n",
    "          fillstyle='none', lw=0.5, ls='-.', color=arg['colors'][2])\n",
    "\n",
    "# format legend\n",
    "handles, labels = ax[0].get_legend_handles_labels()\n",
    "by_label = dict(zip(labels, handles))\n",
    "ax[0].legend(by_label.values(), by_label.keys(), loc='upper left')\n",
    "\n",
    "plt.tight_layout()"
   ]
  },
  {
   "cell_type": "code",
   "execution_count": null,
   "id": "3688e365",
   "metadata": {},
   "outputs": [],
   "source": []
  },
  {
   "cell_type": "code",
   "execution_count": null,
   "id": "c073419a",
   "metadata": {},
   "outputs": [],
   "source": [
    "# differential image\n",
    "fig, ax = plt.subplots(figsize=(18, 3), ncols=2, sharex=True, sharey=True) # nrows=2\n",
    "fig.text(0.017, 0.2, 'O$_2$ penetration depth [mm]', \n",
    "         fontsize=fs*0.9, ha='center', rotation='vertical')\n",
    "#fig.text(0.026, 0.62, 'average level', fontsize=fs*0.9, ha='center', \n",
    "#         rotation='vertical')\n",
    "#fig.text(0.026, 0.17, '', fontsize=fs*0.9, ha='center', \n",
    "#         rotation='vertical')\n",
    "fig.text(0.52, 0.0075, 'kernel size', fontsize=fs, ha='center')\n",
    "\n",
    "ax[0].set_title('Difference when single color channel was blurred compared to ratiometric intensity', \n",
    "                loc='left', fontsize=fs*0.8)\n",
    "ax[0].plot(kernel_select, list(ydepthS[0][d] - ydepthR[0][d])[:nk], fillstyle='none',\n",
    "              marker=arg['marker'][0], color=arg['colors'][0], label=d + ' blur')\n",
    "ax[0].plot(kernel_select, list(ydepthS[0][d1] - ydepthR[0][d1])[:nk], fillstyle='none',\n",
    "              marker=arg['marker'][1], color=arg['colors'][1], label=d1 + ' blur')\n",
    "ax[0].plot(kernel_select, list(ydepthS[0][d2] - ydepthR[0][d2])[:nk], fillstyle='none',\n",
    "              marker=arg['marker'][2], color=arg['colors'][2], label=d2 + ' blur')\n",
    "\n",
    "ax[1].set_title('Difference when normalized intensity was blurred compared to ratiometric intensity',\n",
    "                loc='left', fontsize=fs*0.8)\n",
    "ax[1].plot(kernel_select, list(ydepthN[0][d] - ydepthR[0][d])[:nk], fillstyle='none',\n",
    "              marker=arg['marker'][0], color=arg['colors'][0])\n",
    "ax[1].plot(kernel_select, list(ydepthN[0][d1] - ydepthR[0][d1])[:nk], fillstyle='none',\n",
    "              marker=arg['marker'][1], color=arg['colors'][1])\n",
    "ax[1].plot(kernel_select, list(ydepthN[0][d2] - ydepthR[0][d2])[:nk], fillstyle='none',\n",
    "              marker=arg['marker'][2], color=arg['colors'][2])\n",
    "\n",
    "# difference standard deviation\n",
    "#ax[0].plot(kernel_select, list(ydepthS[1][d] - ydepthR[1][d])[:nk], fillstyle='none',\n",
    "#              marker=arg['marker'][0], color=arg['colors'][0], label=d + ' blur')\n",
    "#ax[0].plot(kernel_select, list(ydepthS[1][d1] - ydepthR[1][d1])[:nk], fillstyle='none',\n",
    "#              marker=arg['marker'][1], color=arg['colors'][1], label=d1 + ' blur')\n",
    "#ax[0].plot(kernel_select, list(ydepthS[1][d2] - ydepthR[1][d2])[:nk], fillstyle='none',\n",
    "#              marker=arg['marker'][2], color=arg['colors'][2], label=d2 + ' blur')\n",
    "\n",
    "#ax[1].plot(kernel_select, list(ydepthN[1][d] - ydepthR[1][d])[:nk], fillstyle='none',\n",
    "#              marker=arg['marker'][0], color=arg['colors'][0])\n",
    "#ax[1].plot(kernel_select, list(ydepthN[1][d1] - ydepthR[1][d1])[:nk], fillstyle='none',\n",
    "#              marker=arg['marker'][1], color=arg['colors'][1])\n",
    "#ax[1].plot(kernel_select, list(ydepthN[1][d2] - ydepthR[1][d2])[:nk], fillstyle='none',\n",
    "#              marker=arg['marker'][2], color=arg['colors'][2])\n",
    "\n",
    "# format legend\n",
    "handles, labels = ax[0].get_legend_handles_labels()\n",
    "by_label = dict(zip(labels, handles))\n",
    "ax[0].legend(by_label.values(), by_label.keys(), loc='lower left')\n",
    "\n",
    "plt.subplots_adjust(left=0.075, right=0.99, wspace=0.05)\n",
    "#plt.tight_layout(pad=2)"
   ]
  },
  {
   "cell_type": "code",
   "execution_count": 883,
   "id": "276b0bac",
   "metadata": {},
   "outputs": [
    {
     "name": "stdout",
     "output_type": "stream",
     "text": [
      "Gauss\n",
      "vertical       0.124765\n",
      "horizontal     0.151485\n",
      "square         0.151893\n",
      "microsensor    0.113387\n",
      "Name: (5, 5), dtype: float64 \n",
      " vertical       0.085631\n",
      "horizontal     0.103365\n",
      "square         0.099686\n",
      "microsensor    0.113387\n",
      "Name: (5, 5), dtype: float64\n",
      "\n",
      "Savgol\n",
      "vertical       0.125450\n",
      "horizontal     0.163411\n",
      "microsensor    0.113387\n",
      "Name: (2, 5), dtype: float64 \n",
      " vertical       0.077220\n",
      "horizontal     0.096028\n",
      "microsensor    0.113387\n",
      "Name: (2, 5), dtype: float64\n"
     ]
    }
   ],
   "source": [
    "print('Gauss')\n",
    "print(ydepthR[0].T[(5,5)], '\\n', ydepthR[1].T[(5,5)])\n",
    "print('')\n",
    "print('Savgol')\n",
    "print(ydepthR_sav[0].T[(2,5)], '\\n', ydepthR_sav[1].T[(2,5)])"
   ]
  },
  {
   "cell_type": "code",
   "execution_count": 882,
   "id": "21cf856b",
   "metadata": {},
   "outputs": [
    {
     "name": "stdout",
     "output_type": "stream",
     "text": [
      "Gauss\n",
      "vertical       0.124288\n",
      "horizontal     0.152846\n",
      "square         0.151866\n",
      "microsensor    0.113387\n",
      "Name: (5, 5), dtype: float64 \n",
      " vertical       0.085592\n",
      "horizontal     0.103882\n",
      "square         0.099675\n",
      "microsensor    0.113387\n",
      "Name: (5, 5), dtype: float64\n",
      "\n",
      "Savgol\n",
      "vertical       0.124991\n",
      "horizontal     0.163670\n",
      "microsensor    0.113387\n",
      "Name: (2, 5), dtype: float64 \n",
      " vertical       0.077326\n",
      "horizontal     0.096227\n",
      "microsensor    0.113387\n",
      "Name: (2, 5), dtype: float64\n"
     ]
    }
   ],
   "source": [
    "print('Gauss')\n",
    "print(ydepthS[0].T[(5,5)], '\\n', ydepthS[1].T[(5,5)])\n",
    "print('')\n",
    "print('Savgol')\n",
    "print(ydepthS_sav[0].T[(2,5)], '\\n', ydepthS_sav[1].T[(2,5)])"
   ]
  },
  {
   "cell_type": "code",
   "execution_count": 881,
   "id": "c96859e3",
   "metadata": {},
   "outputs": [
    {
     "name": "stdout",
     "output_type": "stream",
     "text": [
      "Gauss\n",
      "vertical       0.124667\n",
      "horizontal     0.147907\n",
      "square         0.146839\n",
      "microsensor    0.113387\n",
      "Name: (3, 3), dtype: float64 \n",
      " vertical       0.082111\n",
      "horizontal     0.098586\n",
      "square         0.089801\n",
      "microsensor    0.113387\n",
      "Name: (3, 3), dtype: float64\n",
      "\n",
      "Savgol\n",
      "vertical       0.125450\n",
      "horizontal     0.163411\n",
      "microsensor    0.113387\n",
      "Name: (2, 5), dtype: float64 \n",
      " vertical       0.077220\n",
      "horizontal     0.096028\n",
      "microsensor    0.113387\n",
      "Name: (2, 5), dtype: float64\n"
     ]
    }
   ],
   "source": [
    "print('Gauss')\n",
    "print(ydepthN[0].T[(3,3)], '\\n', ydepthN[1].T[(3,3)])\n",
    "print('')\n",
    "print('Savgol')\n",
    "print(ydepthN_sav[0].T[(2,5)], '\\n', ydepthN_sav[1].T[(2,5)])"
   ]
  },
  {
   "cell_type": "code",
   "execution_count": null,
   "id": "98b54041",
   "metadata": {},
   "outputs": [],
   "source": []
  }
 ],
 "metadata": {
  "kernelspec": {
   "display_name": "Python 3",
   "language": "python",
   "name": "python3"
  },
  "language_info": {
   "codemirror_mode": {
    "name": "ipython",
    "version": 3
   },
   "file_extension": ".py",
   "mimetype": "text/x-python",
   "name": "python",
   "nbconvert_exporter": "python",
   "pygments_lexer": "ipython3",
   "version": "3.8.8"
  }
 },
 "nbformat": 4,
 "nbformat_minor": 5
}
