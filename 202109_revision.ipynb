{
 "cells": [
  {
   "cell_type": "code",
   "execution_count": 100,
   "id": "8b8c0744",
   "metadata": {},
   "outputs": [
    {
     "name": "stdout",
     "output_type": "stream",
     "text": [
      "Using matplotlib backend: MacOSX\n"
     ]
    }
   ],
   "source": [
    "%run functions_NoiseStudy.py\n",
    "%matplotlib \n",
    "\n",
    "# global variables\n",
    "fs = 13\n",
    "type_plot = ['png', 'svg']"
   ]
  },
  {
   "cell_type": "raw",
   "id": "55c80c6d",
   "metadata": {},
   "source": [
    "Compare different smoothing filters AND differnt states when the respective smoothing filter is applied to the image:\n",
    "option-1: Gauss filter - along (a) horizontal axis (b) vertical axis, and (c) both axes\n",
    "        1.1 applied to the ratiometric intensity R = r/g\n",
    "        1.2 applied to the individual channels r and g\n",
    "        1.3. applied to the normalized intensity R0/R\n",
    "        \n",
    "option-2: Savitzky-Golay filter - along (a) horizontal axis (b) vertical axis, and \n",
    "          (c) both axes\n",
    "        2.1 applied to the ratiometric intensity R = r/g\n",
    "        2.2 applied to the individual channels r and g\n",
    "        2.3. applied to the normalized intensity R0/R"
   ]
  },
  {
   "cell_type": "code",
   "execution_count": 3,
   "id": "7fe825dd",
   "metadata": {},
   "outputs": [],
   "source": [
    "# actual evaluation time\n",
    "now = datetime.datetime.now()\n",
    "today = now.strftime(\"%Y%m%d\")\n",
    "\n",
    "# output folder\n",
    "save_dir_plots = 'plots/' + today + '_measurement'\n",
    "if not os.path.exists(save_dir_plots):\n",
    "    os.makedirs(save_dir_plots)\n",
    "    \n",
    "save_dir_res = 'Results/' + today + '_measurement'\n",
    "if not os.path.exists(save_dir_res):\n",
    "    os.makedirs(save_dir_res)"
   ]
  },
  {
   "cell_type": "code",
   "execution_count": 53,
   "id": "7638ad59",
   "metadata": {},
   "outputs": [
    {
     "name": "stdout",
     "output_type": "stream",
     "text": [
      "Image resolution: 1cm equals: 28.02px, i.e. 712dpi\n"
     ]
    }
   ],
   "source": [
    "# depth profile microsensor\n",
    "path_ = '/Volumes/HIS-CAMEL/04measurementData/20201127_Noise-vs-resolution-paper/'\n",
    "file_ms = path_ + 'Klaus_Optode_noise_study_26-11-2020/O2gradient_experiement/profiles.txt'\n",
    "\n",
    "# calibration data \n",
    "file_calib = 'Results/20210531_calibration/20210531-1455_calibration_1RoI.hdf5'\n",
    "\n",
    "# measurement data - images of the optode\n",
    "file_meas = path_ + 'Klaus_Optode_noise_study_26-11-2020/O2gradient_experiement/'\n",
    "\n",
    "# image cropping to the region of interest (RoI) that should be analyzed\n",
    "RoI_op = [[(730, 200), (730, 1250), (1290, 1250), (1290, 200)],   # optode1\n",
    "          [(1560, 200), (1560, 1250), (2100, 1250), (2100, 200)]] # optode2\n",
    "\n",
    "# Image resolution - determine conversion factor px -> mm \n",
    "# user definition using f.ex. imageJ\n",
    "px2mm, dpi = image_resolution(px=840.6646, dist_mm=30., inch=1.1811)\n",
    "print('Image resolution: 1cm equals: {:.2f}px, i.e. {:.0f}dpi'.format(px2mm, dpi))\n",
    "\n",
    "# ................................................................................\n",
    "# load depth profile(s) of the microsensir for validation of the depth profile\n",
    "dic_micro = read_microsensor(file_ms=file_ms, encoding='latin-1')\n",
    "\n",
    "# load measurement data and crop according to the RoI\n",
    "dint_red, dint_green, dint_ratio = splitImage(path=file_meas, RoI_op=RoI_op)"
   ]
  },
  {
   "cell_type": "code",
   "execution_count": 57,
   "id": "5f597f16",
   "metadata": {},
   "outputs": [],
   "source": [
    "# one example of one optode\n",
    "inp = 'optode1, set2'\n",
    "#input('Which optode and which setting shall be visualized? ') # optode1, set2"
   ]
  },
  {
   "cell_type": "markdown",
   "id": "8704ce17",
   "metadata": {},
   "source": [
    "### Image blur"
   ]
  },
  {
   "cell_type": "markdown",
   "id": "e90c54f6",
   "metadata": {},
   "source": [
    "##### Option-1: Gaussian blur"
   ]
  },
  {
   "cell_type": "code",
   "execution_count": 113,
   "id": "96ba1750",
   "metadata": {},
   "outputs": [],
   "source": [
    "# preparation lineprofile\n",
    "surface = (12.9, 12.) # optode 1, optode2\n",
    "depth_lp = (-4, 4) # depth for 2D line profile \n",
    "depth_op =  (-1.5, 1.) # depth for optode excerpt\n",
    "pos_lp = (7., 3.) # position of the depth profile within the optode\n",
    "ls_lw = [0] # line with of the drawn depth profile\n",
    "\n",
    "# kernel size\n",
    "kernel='gauss'\n",
    "ls_kernel = [(1,1), (5, 5), (11, 11), (15, 15), (21, 21), (25, 25), (31, 31), (35, 35),\n",
    "             (41, 41), (45, 45), (51 ,51), (55, 55), (61, 61), (65, 65), (71, 71), \n",
    "             (75, 75), (81, 81)]  \n",
    "\n",
    "# .................................................................\n",
    "# additional information for visualization\n",
    "arg = dict({'curve lw': 1.5, 'vmin':-5, 'vmax': 130, 'lw': 0.0, 'offset ms': 0.2,\n",
    "           'aspect': 4, 'cmap': plt.cm.inferno, 'vmin op': 0, 'vmax op': 100,\n",
    "           'figsize': (12, 5), 'fontsize': 11, 'marker': ['o', 'd', 'x', '.'],\n",
    "           'colors': ['slategrey', 'darkorange', 'forestgreen', 'k']})"
   ]
  },
  {
   "cell_type": "markdown",
   "id": "6d59b6d1",
   "metadata": {},
   "source": [
    "Option-1.1: Gauss filter applied to ratiometric intensity"
   ]
  },
  {
   "cell_type": "code",
   "execution_count": 114,
   "id": "6dd71818",
   "metadata": {},
   "outputs": [],
   "source": [
    "# determine O2 concentration for the depth profile (1D) for different image blurs\n",
    "dO2_lp = dict(map(lambda k: \n",
    "                  (k, O2_lineprofile_compare_v1(inp=inp, surface=surface, kernel=kernel, \n",
    "                                                kshape=k, lp=pos_lp, path_calib=file_calib,\n",
    "                                                dint_ch1=dint_ratio, px2mm=px2mm, \n",
    "                                                ls_lw=ls_lw, blur_type='ratio')), \n",
    "                  ls_kernel))\n",
    "\n",
    "# determine O2 concentration for different image blurs for an excerpt of the optode in 2D\n",
    "dO2_optode = dict(map(lambda k: \n",
    "                      (k, O2blur_optode(kshape=k, inp=inp, path_calib=file_calib, \n",
    "                                        px2mm=px2mm, kernel=kernel, dint_ch1=dint_ratio, \n",
    "                                        surface=surface, depth_min=depth_op[0], \n",
    "                                        depth_max=depth_op[1], blur_type='ratio')),\n",
    "                      ls_kernel))"
   ]
  },
  {
   "cell_type": "code",
   "execution_count": 115,
   "id": "df27e30e",
   "metadata": {},
   "outputs": [],
   "source": [
    "# VISUALIZE image blur along line profile\n",
    "# prepare microsensor for joint visualization\n",
    "df_ms = prepMS_plot(index_lp=dO2_lp[ls_kernel[0]]['vertical'][ls_lw[0]].index,\n",
    "                    dic_micro=dic_micro, offset=arg['offset ms'])\n",
    "\n",
    "# plot lineprofile and excerpt of optode \n",
    "dimages = dict()\n",
    "for k in ls_kernel:\n",
    "    fig_lp = plotLP(kshape=k, dO2_lp=dO2_lp, dO2_optode=dO2_optode, df_ms=df_ms, arg=arg,\n",
    "                    header_ms=['Depth (mm)', 'Intensity'], depth_lp=depth_lp, \n",
    "                    s=inp.split(',')[1].strip(), depth=df_ms['Depth (mm)'])\n",
    "    dimages[k] = fig_lp"
   ]
  },
  {
   "cell_type": "code",
   "execution_count": 116,
   "id": "8dc501ea",
   "metadata": {},
   "outputs": [],
   "source": [
    "# save depth profile\n",
    "now = datetime.datetime.now() \n",
    "name_DP_ = save_dir_plots + '/' + now.strftime(\"%Y%m%d-%H%M%S\") + '_DepthProfile_ratioIntensity-blurred_' + '-'.join([i.strip() for i in inp.split(',')])\n",
    "\n",
    "for k in dimages.keys():\n",
    "    name_DP = name_DP_ + '_kernel-' + str(k[0]) + '.'\n",
    "    for t in type_plot:\n",
    "        dimages[k].savefig(name_DP + t, dpi=300, transparent=False)"
   ]
  },
  {
   "cell_type": "code",
   "execution_count": null,
   "id": "7d6740ef",
   "metadata": {},
   "outputs": [],
   "source": []
  },
  {
   "cell_type": "markdown",
   "id": "fe61549f",
   "metadata": {},
   "source": [
    "Option-1.2: Gauss filter applied to individual intensity channels red and green"
   ]
  },
  {
   "cell_type": "code",
   "execution_count": 110,
   "id": "dd20ec26",
   "metadata": {},
   "outputs": [],
   "source": [
    "# determine O2 concentration for the depth profile (1D) for different image blurs\n",
    "dO2_lp = dict(map(lambda k: \n",
    "                  (k, O2_lineprofile_compare_v1(inp=inp, surface=surface, kernel=kernel, \n",
    "                                                kshape=k, lp=pos_lp, path_calib=file_calib,\n",
    "                                                dint_ch1=dint_red, dint_ch2=dint_green,\n",
    "                                                px2mm=px2mm, ls_lw=ls_lw, \n",
    "                                                blur_type='single')), ls_kernel))\n",
    "\n",
    "# determine O2 concentration for different image blurs for an excerpt of the optode in 2D\n",
    "dO2_optode = dict(map(lambda k: \n",
    "                      (k, O2blur_optode(kshape=k, inp=inp, path_calib=file_calib, \n",
    "                                        px2mm=px2mm, kernel=kernel, dint_ch1=dint_red, \n",
    "                                        dint_ch2=dint_green, surface=surface, \n",
    "                                        depth_min=depth_op[0], depth_max=depth_op[1], \n",
    "                                        blur_type='single')), ls_kernel))"
   ]
  },
  {
   "cell_type": "code",
   "execution_count": 111,
   "id": "6d167efe",
   "metadata": {},
   "outputs": [],
   "source": [
    "# VISUALIZE image blur along line profile\n",
    "# prepare microsensor for joint visualization\n",
    "df_ms = prepMS_plot(index_lp=dO2_lp[ls_kernel[0]]['vertical'][ls_lw[0]].index,\n",
    "                    dic_micro=dic_micro, offset=arg['offset ms'])\n",
    "\n",
    "# plot lineprofile and excerpt of optode \n",
    "dimages = dict()\n",
    "for k in ls_kernel:\n",
    "    fig_lp = plotLP(kshape=k, dO2_lp=dO2_lp, dO2_optode=dO2_optode, df_ms=df_ms, arg=arg,\n",
    "                    header_ms=['Depth (mm)', 'Intensity'], depth_lp=depth_lp, \n",
    "                    s=inp.split(',')[1].strip(), depth=df_ms['Depth (mm)'])\n",
    "    dimages[k] = fig_lp"
   ]
  },
  {
   "cell_type": "code",
   "execution_count": 112,
   "id": "1a0ddc73",
   "metadata": {},
   "outputs": [],
   "source": [
    "# save depth profile\n",
    "now = datetime.datetime.now() \n",
    "name_DP_ = save_dir_plots + '/' + now.strftime(\"%Y%m%d-%H%M%S\") + '_DepthProfile_individualChannels-blurred_' + '-'.join([i.strip() for i in inp.split(',')])\n",
    "\n",
    "for k in dimages.keys():\n",
    "    name_DP = name_DP_ + '_kernel-' + str(k[0]) + '.'\n",
    "    for t in type_plot:\n",
    "        dimages[k].savefig(name_DP + t, dpi=300, transparent=False)"
   ]
  },
  {
   "cell_type": "code",
   "execution_count": null,
   "id": "60e0a098",
   "metadata": {},
   "outputs": [],
   "source": []
  },
  {
   "cell_type": "markdown",
   "id": "faf37e14",
   "metadata": {},
   "source": [
    "Option-1.3: Gauss filter applied to normalized ratiometric intensity"
   ]
  },
  {
   "cell_type": "code",
   "execution_count": 120,
   "id": "f9227cdb",
   "metadata": {},
   "outputs": [],
   "source": [
    "%run functions_NoiseStudy.py"
   ]
  },
  {
   "cell_type": "code",
   "execution_count": 135,
   "id": "481f7ac6",
   "metadata": {},
   "outputs": [],
   "source": [
    "# based on O2_lineprofile_compare_v1 blur normalized ratiometric intensity\n",
    "dint = dint_ratio\n",
    "\n",
    "# ........................................................................\n",
    "# preparation\n",
    "o = inp.split(',')[0]\n",
    "s = inp.split(',')[1].strip()\n",
    "\n",
    "# convert from px to mm\n",
    "dimages = px2mm_conversion(df=pd.DataFrame(dint[o][s]), px2mm=px2mm, \n",
    "                           surface=surface[int(o[-1])-1])\n",
    "\n",
    "# crop to image width of interest\n",
    "ddlp = dict(map(lambda lw_: (lw_, line_profile_v1(df=dimages, lw=lw_, lp=lp[0])), ls_lw))\n",
    "\n",
    "# load calibration\n",
    "calib_info = load_calibration_para_v1(path_calib=path_calib)\n",
    "para = calib_info[o][s]\n",
    "\n",
    "# update determination of O2 concentration for line profile\n",
    "# based on O2concentration_lp\n",
    "# ........................................................................\n"
   ]
  },
  {
   "cell_type": "code",
   "execution_count": null,
   "id": "3bb71220",
   "metadata": {},
   "outputs": [],
   "source": []
  },
  {
   "cell_type": "code",
   "execution_count": null,
   "id": "4c16eafd",
   "metadata": {},
   "outputs": [],
   "source": []
  }
 ],
 "metadata": {
  "kernelspec": {
   "display_name": "Python 3",
   "language": "python",
   "name": "python3"
  },
  "language_info": {
   "codemirror_mode": {
    "name": "ipython",
    "version": 3
   },
   "file_extension": ".py",
   "mimetype": "text/x-python",
   "name": "python",
   "nbconvert_exporter": "python",
   "pygments_lexer": "ipython3",
   "version": "3.8.8"
  }
 },
 "nbformat": 4,
 "nbformat_minor": 5
}
